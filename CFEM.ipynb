{
 "cells": [
  {
   "cell_type": "markdown",
   "id": "3d4f07c1",
   "metadata": {},
   "source": [
    "# CFEM 2022: Foram importadas 2 bases de dados uma distribuidora e outra arrecadação"
   ]
  },
  {
   "cell_type": "code",
   "execution_count": 1,
   "id": "b5687745",
   "metadata": {},
   "outputs": [],
   "source": [
    "import pandas as pd\n",
    "import seaborn as sns\n",
    "import matplotlib.pyplot as plt"
   ]
  },
  {
   "cell_type": "code",
   "execution_count": 2,
   "id": "f7ee06d9",
   "metadata": {},
   "outputs": [],
   "source": [
    "cfem_distribuidora=pd.read_excel(\"cfem_distribuidora_2022.xlsx\")"
   ]
  },
  {
   "cell_type": "code",
   "execution_count": 3,
   "id": "f6c2823d",
   "metadata": {},
   "outputs": [],
   "source": [
    "cfem_arrecadadacao=pd.read_excel(\"cfem_arrecadacao_2022.xlsx\")"
   ]
  },
  {
   "cell_type": "markdown",
   "id": "faaec77d",
   "metadata": {},
   "source": [
    "# 1. CFEM Distribuidora"
   ]
  },
  {
   "cell_type": "code",
   "execution_count": 4,
   "id": "a221697e",
   "metadata": {},
   "outputs": [
    {
     "data": {
      "text/html": [
       "<div>\n",
       "<style scoped>\n",
       "    .dataframe tbody tr th:only-of-type {\n",
       "        vertical-align: middle;\n",
       "    }\n",
       "\n",
       "    .dataframe tbody tr th {\n",
       "        vertical-align: top;\n",
       "    }\n",
       "\n",
       "    .dataframe thead th {\n",
       "        text-align: right;\n",
       "    }\n",
       "</style>\n",
       "<table border=\"1\" class=\"dataframe\">\n",
       "  <thead>\n",
       "    <tr style=\"text-align: right;\">\n",
       "      <th></th>\n",
       "      <th>NúmeroDeDistribuição</th>\n",
       "      <th>Ano</th>\n",
       "      <th>Mês</th>\n",
       "      <th>Ente</th>\n",
       "      <th>SiglaEstado</th>\n",
       "      <th>NomeEnte</th>\n",
       "      <th>TipoDistribuição</th>\n",
       "      <th>Substância</th>\n",
       "      <th>TipoAfetamento</th>\n",
       "      <th>Valor</th>\n",
       "    </tr>\n",
       "  </thead>\n",
       "  <tbody>\n",
       "    <tr>\n",
       "      <th>324</th>\n",
       "      <td>598</td>\n",
       "      <td>2022</td>\n",
       "      <td>5</td>\n",
       "      <td>Município</td>\n",
       "      <td>PA</td>\n",
       "      <td>CUMARU DO NORTE</td>\n",
       "      <td>Produtor</td>\n",
       "      <td>MINÉRIO DE OURO</td>\n",
       "      <td>-</td>\n",
       "      <td>124193.544000</td>\n",
       "    </tr>\n",
       "    <tr>\n",
       "      <th>356</th>\n",
       "      <td>601</td>\n",
       "      <td>2022</td>\n",
       "      <td>5</td>\n",
       "      <td>Município</td>\n",
       "      <td>MT</td>\n",
       "      <td>COLNIZA</td>\n",
       "      <td>Afetado</td>\n",
       "      <td>MINÉRIO DE OURO</td>\n",
       "      <td>Estrutura de mineração</td>\n",
       "      <td>161683.156147</td>\n",
       "    </tr>\n",
       "    <tr>\n",
       "      <th>404</th>\n",
       "      <td>603</td>\n",
       "      <td>2022</td>\n",
       "      <td>7</td>\n",
       "      <td>Município</td>\n",
       "      <td>MA</td>\n",
       "      <td>TURIAÇU</td>\n",
       "      <td>Afetado</td>\n",
       "      <td>MINÉRIO DE OURO</td>\n",
       "      <td>Estrutura de mineração</td>\n",
       "      <td>17009.247116</td>\n",
       "    </tr>\n",
       "    <tr>\n",
       "      <th>78</th>\n",
       "      <td>575</td>\n",
       "      <td>2022</td>\n",
       "      <td>1</td>\n",
       "      <td>Município</td>\n",
       "      <td>TO</td>\n",
       "      <td>BREJINHO DE NAZARÉ</td>\n",
       "      <td>Afetado</td>\n",
       "      <td>MINÉRIO DE OURO</td>\n",
       "      <td>Estrutura de mineração</td>\n",
       "      <td>50925.398035</td>\n",
       "    </tr>\n",
       "    <tr>\n",
       "      <th>10</th>\n",
       "      <td>564</td>\n",
       "      <td>2022</td>\n",
       "      <td>1</td>\n",
       "      <td>Município</td>\n",
       "      <td>MT</td>\n",
       "      <td>NOVA SANTA HELENA</td>\n",
       "      <td>Produtor</td>\n",
       "      <td>MINÉRIO DE OURO</td>\n",
       "      <td>-</td>\n",
       "      <td>4775.964000</td>\n",
       "    </tr>\n",
       "    <tr>\n",
       "      <th>272</th>\n",
       "      <td>596</td>\n",
       "      <td>2022</td>\n",
       "      <td>7</td>\n",
       "      <td>UF</td>\n",
       "      <td>AP</td>\n",
       "      <td>Amapá</td>\n",
       "      <td>-</td>\n",
       "      <td>MINÉRIO DE OURO</td>\n",
       "      <td>-</td>\n",
       "      <td>2202.907242</td>\n",
       "    </tr>\n",
       "    <tr>\n",
       "      <th>205</th>\n",
       "      <td>593</td>\n",
       "      <td>2022</td>\n",
       "      <td>4</td>\n",
       "      <td>UF</td>\n",
       "      <td>PA</td>\n",
       "      <td>Pará</td>\n",
       "      <td>-</td>\n",
       "      <td>MINÉRIO DE OURO</td>\n",
       "      <td>-</td>\n",
       "      <td>55373.801109</td>\n",
       "    </tr>\n",
       "    <tr>\n",
       "      <th>389</th>\n",
       "      <td>602</td>\n",
       "      <td>2022</td>\n",
       "      <td>7</td>\n",
       "      <td>Município</td>\n",
       "      <td>RN</td>\n",
       "      <td>CURRAIS NOVOS</td>\n",
       "      <td>Afetado</td>\n",
       "      <td>MINÉRIO DE OURO</td>\n",
       "      <td>Estrutura de mineração</td>\n",
       "      <td>28598.950573</td>\n",
       "    </tr>\n",
       "    <tr>\n",
       "      <th>354</th>\n",
       "      <td>601</td>\n",
       "      <td>2022</td>\n",
       "      <td>5</td>\n",
       "      <td>Município</td>\n",
       "      <td>MG</td>\n",
       "      <td>ITABIRITO</td>\n",
       "      <td>Afetado</td>\n",
       "      <td>MINÉRIO DE OURO</td>\n",
       "      <td>Estrutura de mineração</td>\n",
       "      <td>139.791981</td>\n",
       "    </tr>\n",
       "    <tr>\n",
       "      <th>209</th>\n",
       "      <td>594</td>\n",
       "      <td>2022</td>\n",
       "      <td>9</td>\n",
       "      <td>Município</td>\n",
       "      <td>MT</td>\n",
       "      <td>NOVO MUNDO</td>\n",
       "      <td>Produtor</td>\n",
       "      <td>MINÉRIO DE OURO</td>\n",
       "      <td>-</td>\n",
       "      <td>24303.978000</td>\n",
       "    </tr>\n",
       "  </tbody>\n",
       "</table>\n",
       "</div>"
      ],
      "text/plain": [
       "     NúmeroDeDistribuição   Ano  Mês       Ente SiglaEstado  \\\n",
       "324                   598  2022    5  Município          PA   \n",
       "356                   601  2022    5  Município          MT   \n",
       "404                   603  2022    7  Município          MA   \n",
       "78                    575  2022    1  Município          TO   \n",
       "10                    564  2022    1  Município          MT   \n",
       "272                   596  2022    7         UF          AP   \n",
       "205                   593  2022    4         UF          PA   \n",
       "389                   602  2022    7  Município          RN   \n",
       "354                   601  2022    5  Município          MG   \n",
       "209                   594  2022    9  Município          MT   \n",
       "\n",
       "               NomeEnte TipoDistribuição       Substância  \\\n",
       "324     CUMARU DO NORTE         Produtor  MINÉRIO DE OURO   \n",
       "356             COLNIZA          Afetado  MINÉRIO DE OURO   \n",
       "404             TURIAÇU          Afetado  MINÉRIO DE OURO   \n",
       "78   BREJINHO DE NAZARÉ          Afetado  MINÉRIO DE OURO   \n",
       "10    NOVA SANTA HELENA         Produtor  MINÉRIO DE OURO   \n",
       "272               Amapá                -  MINÉRIO DE OURO   \n",
       "205                Pará                -  MINÉRIO DE OURO   \n",
       "389       CURRAIS NOVOS          Afetado  MINÉRIO DE OURO   \n",
       "354           ITABIRITO          Afetado  MINÉRIO DE OURO   \n",
       "209          NOVO MUNDO         Produtor  MINÉRIO DE OURO   \n",
       "\n",
       "             TipoAfetamento          Valor  \n",
       "324                       -  124193.544000  \n",
       "356  Estrutura de mineração  161683.156147  \n",
       "404  Estrutura de mineração   17009.247116  \n",
       "78   Estrutura de mineração   50925.398035  \n",
       "10                        -    4775.964000  \n",
       "272                       -    2202.907242  \n",
       "205                       -   55373.801109  \n",
       "389  Estrutura de mineração   28598.950573  \n",
       "354  Estrutura de mineração     139.791981  \n",
       "209                       -   24303.978000  "
      ]
     },
     "execution_count": 4,
     "metadata": {},
     "output_type": "execute_result"
    }
   ],
   "source": [
    "cfem_distribuidora.sample(10)"
   ]
  },
  {
   "cell_type": "code",
   "execution_count": 5,
   "id": "42ab76b3",
   "metadata": {},
   "outputs": [
    {
     "data": {
      "text/plain": [
       "(450, 10)"
      ]
     },
     "execution_count": 5,
     "metadata": {},
     "output_type": "execute_result"
    }
   ],
   "source": [
    "cfem_distribuidora.shape"
   ]
  },
  {
   "cell_type": "code",
   "execution_count": 6,
   "id": "eeb781e7",
   "metadata": {},
   "outputs": [
    {
     "data": {
      "text/plain": [
       "Index(['NúmeroDeDistribuição', 'Ano', 'Mês', 'Ente', 'SiglaEstado', 'NomeEnte',\n",
       "       'TipoDistribuição', 'Substância', 'TipoAfetamento', 'Valor'],\n",
       "      dtype='object')"
      ]
     },
     "execution_count": 6,
     "metadata": {},
     "output_type": "execute_result"
    }
   ],
   "source": [
    "cfem_distribuidora.columns"
   ]
  },
  {
   "cell_type": "markdown",
   "id": "01c07c12",
   "metadata": {},
   "source": [
    "# Estatística para Valor"
   ]
  },
  {
   "cell_type": "code",
   "execution_count": 7,
   "id": "8bfdcd57",
   "metadata": {},
   "outputs": [
    {
     "data": {
      "text/plain": [
       "count        450.00\n",
       "mean      109449.71\n",
       "std       407938.09\n",
       "min           88.54\n",
       "25%         3208.92\n",
       "50%        14366.52\n",
       "75%        44765.58\n",
       "max      4376807.09\n",
       "Name: Valor, dtype: float64"
      ]
     },
     "execution_count": 7,
     "metadata": {},
     "output_type": "execute_result"
    }
   ],
   "source": [
    "cfem_distribuidora.Valor.describe().round(2)"
   ]
  },
  {
   "cell_type": "markdown",
   "id": "e8132286",
   "metadata": {},
   "source": [
    "# Só há Minério de Ouro na Distribuição"
   ]
  },
  {
   "cell_type": "code",
   "execution_count": 8,
   "id": "371df994",
   "metadata": {},
   "outputs": [
    {
     "data": {
      "text/plain": [
       "MINÉRIO DE OURO    450\n",
       "Name: Substância, dtype: int64"
      ]
     },
     "execution_count": 8,
     "metadata": {},
     "output_type": "execute_result"
    }
   ],
   "source": [
    "cfem_distribuidora.Substância.value_counts()"
   ]
  },
  {
   "cell_type": "code",
   "execution_count": 9,
   "id": "6b1c4525",
   "metadata": {},
   "outputs": [
    {
     "data": {
      "text/plain": [
       "-                         226\n",
       "Estrutura de mineração    224\n",
       "Name: TipoAfetamento, dtype: int64"
      ]
     },
     "execution_count": 9,
     "metadata": {},
     "output_type": "execute_result"
    }
   ],
   "source": [
    "cfem_distribuidora.TipoAfetamento.value_counts()"
   ]
  },
  {
   "cell_type": "markdown",
   "id": "70724565",
   "metadata": {},
   "source": [
    "# Estados que mais aparecem"
   ]
  },
  {
   "cell_type": "code",
   "execution_count": 10,
   "id": "88a27cff",
   "metadata": {},
   "outputs": [
    {
     "data": {
      "text/plain": [
       "MT    125\n",
       "MG     73\n",
       "PA     59\n",
       "GO     48\n",
       "BA     37\n",
       "TO     28\n",
       "RO     23\n",
       "AP     15\n",
       "MA     14\n",
       "PB      8\n",
       "PE      8\n",
       "RN      8\n",
       "AM      4\n",
       "Name: SiglaEstado, dtype: int64"
      ]
     },
     "execution_count": 10,
     "metadata": {},
     "output_type": "execute_result"
    }
   ],
   "source": [
    "cfem_distribuidora.SiglaEstado.value_counts()"
   ]
  },
  {
   "cell_type": "markdown",
   "id": "dd11ac3a",
   "metadata": {},
   "source": [
    "# Nomes das Cidades que mais aparecem"
   ]
  },
  {
   "cell_type": "code",
   "execution_count": 11,
   "id": "aeec3dd3",
   "metadata": {},
   "outputs": [
    {
     "data": {
      "text/plain": [
       "CUMARU DO NORTE           15\n",
       "PORTO GRANDE              11\n",
       "TURIAÇU                   10\n",
       "MATUPÁ                     9\n",
       "PEIXOTO DE AZEVEDO         9\n",
       "                          ..\n",
       "SÃO GONÇALO DO SAPUCAÍ     1\n",
       "SENADOR JOSÉ PORFÍRIO      1\n",
       "JARU                       1\n",
       "GUARANTÃ DO NORTE          1\n",
       "NOVA MAMORÉ                1\n",
       "Name: NomeEnte, Length: 77, dtype: int64"
      ]
     },
     "execution_count": 11,
     "metadata": {},
     "output_type": "execute_result"
    }
   ],
   "source": [
    "cfem_distribuidora.NomeEnte.value_counts()"
   ]
  },
  {
   "cell_type": "markdown",
   "id": "7876be8e",
   "metadata": {},
   "source": [
    "# Para Valor < 100 mil"
   ]
  },
  {
   "cell_type": "code",
   "execution_count": 13,
   "id": "bcb8b992",
   "metadata": {},
   "outputs": [
    {
     "data": {
      "text/plain": [
       "<Figure size 1440x720 with 0 Axes>"
      ]
     },
     "metadata": {},
     "output_type": "display_data"
    },
    {
     "data": {
      "image/png": "[encoded data removed]",
      "text/plain": [
       "<Figure size 360x360 with 1 Axes>"
      ]
     },
     "metadata": {
      "needs_background": "light"
     },
     "output_type": "display_data"
    }
   ],
   "source": [
    "plt.figure(figsize=(20,10))\n",
    "sns.catplot(data=cfem_distribuidora.query('Valor < 100000'), x='Valor', y='SiglaEstado')\n",
    "plt.title(\"Estado x Valor (abaixo de 100mil)\",fontsize=18)\n",
    "plt.grid()"
   ]
  },
  {
   "cell_type": "markdown",
   "id": "e0779723",
   "metadata": {},
   "source": [
    "# Para Valor maior de 100 mil"
   ]
  },
  {
   "cell_type": "code",
   "execution_count": 12,
   "id": "7fcc07a9",
   "metadata": {},
   "outputs": [
    {
     "data": {
      "text/plain": [
       "<Figure size 1440x720 with 0 Axes>"
      ]
     },
     "metadata": {},
     "output_type": "display_data"
    },
    {
     "data": {
      "image/png": "[encoded data removed]",
      "text/plain": [
       "<Figure size 360x360 with 1 Axes>"
      ]
     },
     "metadata": {
      "needs_background": "light"
     },
     "output_type": "display_data"
    }
   ],
   "source": [
    "plt.figure(figsize=(20,10))\n",
    "sns.catplot(data=cfem_distribuidora.query('Valor > 100000'), x='Valor', y='SiglaEstado')\n",
    "plt.title(\"Estado x Valor (acima de 100mil)\",fontsize=18)\n",
    "plt.grid()"
   ]
  },
  {
   "cell_type": "markdown",
   "id": "4afccbc6",
   "metadata": {},
   "source": [
    "# Maranhão"
   ]
  },
  {
   "cell_type": "code",
   "execution_count": 14,
   "id": "6ff3982d",
   "metadata": {},
   "outputs": [
    {
     "data": {
      "text/html": [
       "<div>\n",
       "<style scoped>\n",
       "    .dataframe tbody tr th:only-of-type {\n",
       "        vertical-align: middle;\n",
       "    }\n",
       "\n",
       "    .dataframe tbody tr th {\n",
       "        vertical-align: top;\n",
       "    }\n",
       "\n",
       "    .dataframe thead th {\n",
       "        text-align: right;\n",
       "    }\n",
       "</style>\n",
       "<table border=\"1\" class=\"dataframe\">\n",
       "  <thead>\n",
       "    <tr style=\"text-align: right;\">\n",
       "      <th></th>\n",
       "      <th>NúmeroDeDistribuição</th>\n",
       "      <th>Ano</th>\n",
       "      <th>Mês</th>\n",
       "      <th>Ente</th>\n",
       "      <th>SiglaEstado</th>\n",
       "      <th>NomeEnte</th>\n",
       "      <th>TipoDistribuição</th>\n",
       "      <th>Substância</th>\n",
       "      <th>TipoAfetamento</th>\n",
       "      <th>Valor</th>\n",
       "    </tr>\n",
       "  </thead>\n",
       "  <tbody>\n",
       "    <tr>\n",
       "      <th>33</th>\n",
       "      <td>574</td>\n",
       "      <td>2022</td>\n",
       "      <td>1</td>\n",
       "      <td>Município</td>\n",
       "      <td>MA</td>\n",
       "      <td>TURIAÇU</td>\n",
       "      <td>Afetado</td>\n",
       "      <td>MINÉRIO DE OURO</td>\n",
       "      <td>Estrutura de mineração</td>\n",
       "      <td>19695.377808</td>\n",
       "    </tr>\n",
       "    <tr>\n",
       "      <th>61</th>\n",
       "      <td>575</td>\n",
       "      <td>2022</td>\n",
       "      <td>1</td>\n",
       "      <td>Município</td>\n",
       "      <td>MA</td>\n",
       "      <td>TURIAÇU</td>\n",
       "      <td>Afetado</td>\n",
       "      <td>MINÉRIO DE OURO</td>\n",
       "      <td>Estrutura de mineração</td>\n",
       "      <td>18912.333506</td>\n",
       "    </tr>\n",
       "    <tr>\n",
       "      <th>89</th>\n",
       "      <td>576</td>\n",
       "      <td>2022</td>\n",
       "      <td>1</td>\n",
       "      <td>Município</td>\n",
       "      <td>MA</td>\n",
       "      <td>TURIAÇU</td>\n",
       "      <td>Afetado</td>\n",
       "      <td>MINÉRIO DE OURO</td>\n",
       "      <td>Estrutura de mineração</td>\n",
       "      <td>18996.538831</td>\n",
       "    </tr>\n",
       "    <tr>\n",
       "      <th>117</th>\n",
       "      <td>577</td>\n",
       "      <td>2022</td>\n",
       "      <td>1</td>\n",
       "      <td>Município</td>\n",
       "      <td>MA</td>\n",
       "      <td>TURIAÇU</td>\n",
       "      <td>Afetado</td>\n",
       "      <td>MINÉRIO DE OURO</td>\n",
       "      <td>Estrutura de mineração</td>\n",
       "      <td>21497.655621</td>\n",
       "    </tr>\n",
       "    <tr>\n",
       "      <th>135</th>\n",
       "      <td>580</td>\n",
       "      <td>2022</td>\n",
       "      <td>2</td>\n",
       "      <td>Município</td>\n",
       "      <td>MA</td>\n",
       "      <td>TURIAÇU</td>\n",
       "      <td>Produtor</td>\n",
       "      <td>MINÉRIO DE OURO</td>\n",
       "      <td>-</td>\n",
       "      <td>2557.974000</td>\n",
       "    </tr>\n",
       "    <tr>\n",
       "      <th>248</th>\n",
       "      <td>595</td>\n",
       "      <td>2022</td>\n",
       "      <td>8</td>\n",
       "      <td>UF</td>\n",
       "      <td>MA</td>\n",
       "      <td>Maranhão</td>\n",
       "      <td>-</td>\n",
       "      <td>MINÉRIO DE OURO</td>\n",
       "      <td>-</td>\n",
       "      <td>11790.304406</td>\n",
       "    </tr>\n",
       "    <tr>\n",
       "      <th>255</th>\n",
       "      <td>596</td>\n",
       "      <td>2022</td>\n",
       "      <td>7</td>\n",
       "      <td>Município</td>\n",
       "      <td>MA</td>\n",
       "      <td>TURIAÇU</td>\n",
       "      <td>Produtor</td>\n",
       "      <td>MINÉRIO DE OURO</td>\n",
       "      <td>-</td>\n",
       "      <td>22927.356000</td>\n",
       "    </tr>\n",
       "    <tr>\n",
       "      <th>275</th>\n",
       "      <td>596</td>\n",
       "      <td>2022</td>\n",
       "      <td>7</td>\n",
       "      <td>UF</td>\n",
       "      <td>MA</td>\n",
       "      <td>Maranhão</td>\n",
       "      <td>-</td>\n",
       "      <td>MINÉRIO DE OURO</td>\n",
       "      <td>-</td>\n",
       "      <td>9742.583439</td>\n",
       "    </tr>\n",
       "    <tr>\n",
       "      <th>301</th>\n",
       "      <td>597</td>\n",
       "      <td>2022</td>\n",
       "      <td>6</td>\n",
       "      <td>UF</td>\n",
       "      <td>MA</td>\n",
       "      <td>Maranhão</td>\n",
       "      <td>-</td>\n",
       "      <td>MINÉRIO DE OURO</td>\n",
       "      <td>-</td>\n",
       "      <td>10961.721322</td>\n",
       "    </tr>\n",
       "    <tr>\n",
       "      <th>332</th>\n",
       "      <td>598</td>\n",
       "      <td>2022</td>\n",
       "      <td>5</td>\n",
       "      <td>UF</td>\n",
       "      <td>MA</td>\n",
       "      <td>Maranhão</td>\n",
       "      <td>-</td>\n",
       "      <td>MINÉRIO DE OURO</td>\n",
       "      <td>-</td>\n",
       "      <td>568.565062</td>\n",
       "    </tr>\n",
       "    <tr>\n",
       "      <th>348</th>\n",
       "      <td>601</td>\n",
       "      <td>2022</td>\n",
       "      <td>5</td>\n",
       "      <td>Município</td>\n",
       "      <td>MA</td>\n",
       "      <td>TURIAÇU</td>\n",
       "      <td>Afetado</td>\n",
       "      <td>MINÉRIO DE OURO</td>\n",
       "      <td>Estrutura de mineração</td>\n",
       "      <td>17688.413656</td>\n",
       "    </tr>\n",
       "    <tr>\n",
       "      <th>376</th>\n",
       "      <td>602</td>\n",
       "      <td>2022</td>\n",
       "      <td>7</td>\n",
       "      <td>Município</td>\n",
       "      <td>MA</td>\n",
       "      <td>TURIAÇU</td>\n",
       "      <td>Afetado</td>\n",
       "      <td>MINÉRIO DE OURO</td>\n",
       "      <td>Estrutura de mineração</td>\n",
       "      <td>16999.995387</td>\n",
       "    </tr>\n",
       "    <tr>\n",
       "      <th>404</th>\n",
       "      <td>603</td>\n",
       "      <td>2022</td>\n",
       "      <td>7</td>\n",
       "      <td>Município</td>\n",
       "      <td>MA</td>\n",
       "      <td>TURIAÇU</td>\n",
       "      <td>Afetado</td>\n",
       "      <td>MINÉRIO DE OURO</td>\n",
       "      <td>Estrutura de mineração</td>\n",
       "      <td>17009.247116</td>\n",
       "    </tr>\n",
       "    <tr>\n",
       "      <th>432</th>\n",
       "      <td>604</td>\n",
       "      <td>2022</td>\n",
       "      <td>8</td>\n",
       "      <td>Município</td>\n",
       "      <td>MA</td>\n",
       "      <td>TURIAÇU</td>\n",
       "      <td>Afetado</td>\n",
       "      <td>MINÉRIO DE OURO</td>\n",
       "      <td>Estrutura de mineração</td>\n",
       "      <td>17305.356700</td>\n",
       "    </tr>\n",
       "  </tbody>\n",
       "</table>\n",
       "</div>"
      ],
      "text/plain": [
       "     NúmeroDeDistribuição   Ano  Mês       Ente SiglaEstado  NomeEnte  \\\n",
       "33                    574  2022    1  Município          MA   TURIAÇU   \n",
       "61                    575  2022    1  Município          MA   TURIAÇU   \n",
       "89                    576  2022    1  Município          MA   TURIAÇU   \n",
       "117                   577  2022    1  Município          MA   TURIAÇU   \n",
       "135                   580  2022    2  Município          MA   TURIAÇU   \n",
       "248                   595  2022    8         UF          MA  Maranhão   \n",
       "255                   596  2022    7  Município          MA   TURIAÇU   \n",
       "275                   596  2022    7         UF          MA  Maranhão   \n",
       "301                   597  2022    6         UF          MA  Maranhão   \n",
       "332                   598  2022    5         UF          MA  Maranhão   \n",
       "348                   601  2022    5  Município          MA   TURIAÇU   \n",
       "376                   602  2022    7  Município          MA   TURIAÇU   \n",
       "404                   603  2022    7  Município          MA   TURIAÇU   \n",
       "432                   604  2022    8  Município          MA   TURIAÇU   \n",
       "\n",
       "    TipoDistribuição       Substância          TipoAfetamento         Valor  \n",
       "33           Afetado  MINÉRIO DE OURO  Estrutura de mineração  19695.377808  \n",
       "61           Afetado  MINÉRIO DE OURO  Estrutura de mineração  18912.333506  \n",
       "89           Afetado  MINÉRIO DE OURO  Estrutura de mineração  18996.538831  \n",
       "117          Afetado  MINÉRIO DE OURO  Estrutura de mineração  21497.655621  \n",
       "135         Produtor  MINÉRIO DE OURO                       -   2557.974000  \n",
       "248                -  MINÉRIO DE OURO                       -  11790.304406  \n",
       "255         Produtor  MINÉRIO DE OURO                       -  22927.356000  \n",
       "275                -  MINÉRIO DE OURO                       -   9742.583439  \n",
       "301                -  MINÉRIO DE OURO                       -  10961.721322  \n",
       "332                -  MINÉRIO DE OURO                       -    568.565062  \n",
       "348          Afetado  MINÉRIO DE OURO  Estrutura de mineração  17688.413656  \n",
       "376          Afetado  MINÉRIO DE OURO  Estrutura de mineração  16999.995387  \n",
       "404          Afetado  MINÉRIO DE OURO  Estrutura de mineração  17009.247116  \n",
       "432          Afetado  MINÉRIO DE OURO  Estrutura de mineração  17305.356700  "
      ]
     },
     "execution_count": 14,
     "metadata": {},
     "output_type": "execute_result"
    }
   ],
   "source": [
    "cfem_distribuidora_MA= cfem_distribuidora.loc[(cfem_distribuidora['SiglaEstado'] == 'MA')]\n",
    "cfem_distribuidora_MA"
   ]
  },
  {
   "cell_type": "code",
   "execution_count": 15,
   "id": "17bdd787",
   "metadata": {},
   "outputs": [
    {
     "data": {
      "text/plain": [
       "(14, 10)"
      ]
     },
     "execution_count": 15,
     "metadata": {},
     "output_type": "execute_result"
    }
   ],
   "source": [
    "cfem_distribuidora_MA.shape"
   ]
  },
  {
   "cell_type": "markdown",
   "id": "b7af3830",
   "metadata": {},
   "source": [
    "# Soma do Valor por Estado MA nos meses de 2022 =  206.653,42"
   ]
  },
  {
   "cell_type": "code",
   "execution_count": 84,
   "id": "8b591038",
   "metadata": {},
   "outputs": [
    {
     "data": {
      "text/plain": [
       "206653.422854"
      ]
     },
     "execution_count": 84,
     "metadata": {},
     "output_type": "execute_result"
    }
   ],
   "source": [
    "cfem_distribuidora_MA.Valor.sum()"
   ]
  },
  {
   "cell_type": "code",
   "execution_count": 16,
   "id": "4fbc9cac",
   "metadata": {},
   "outputs": [
    {
     "data": {
      "text/plain": [
       "<Figure size 1440x576 with 0 Axes>"
      ]
     },
     "metadata": {},
     "output_type": "display_data"
    },
    {
     "data": {
      "image/png": "[encoded data removed]",
      "text/plain": [
       "<Figure size 360x360 with 1 Axes>"
      ]
     },
     "metadata": {
      "needs_background": "light"
     },
     "output_type": "display_data"
    }
   ],
   "source": [
    "plt.figure(figsize=(20,8))\n",
    "sns.catplot(data=cfem_distribuidora_MA, y='Valor', x=\"Mês\", ci=200 )\n",
    "plt.title(\"Estado MA x Valor\",fontsize=18)\n",
    "plt.xlabel('Mês 2022', fontsize=(20))\n",
    "plt.ylabel('Valor', fontsize=(20))\n",
    "plt.grid()"
   ]
  },
  {
   "cell_type": "markdown",
   "id": "bd2b8523",
   "metadata": {},
   "source": [
    "# Pará"
   ]
  },
  {
   "cell_type": "code",
   "execution_count": 17,
   "id": "3ffaa6b2",
   "metadata": {},
   "outputs": [
    {
     "data": {
      "text/html": [
       "<div>\n",
       "<style scoped>\n",
       "    .dataframe tbody tr th:only-of-type {\n",
       "        vertical-align: middle;\n",
       "    }\n",
       "\n",
       "    .dataframe tbody tr th {\n",
       "        vertical-align: top;\n",
       "    }\n",
       "\n",
       "    .dataframe thead th {\n",
       "        text-align: right;\n",
       "    }\n",
       "</style>\n",
       "<table border=\"1\" class=\"dataframe\">\n",
       "  <thead>\n",
       "    <tr style=\"text-align: right;\">\n",
       "      <th></th>\n",
       "      <th>NúmeroDeDistribuição</th>\n",
       "      <th>Ano</th>\n",
       "      <th>Mês</th>\n",
       "      <th>Ente</th>\n",
       "      <th>SiglaEstado</th>\n",
       "      <th>NomeEnte</th>\n",
       "      <th>TipoDistribuição</th>\n",
       "      <th>Substância</th>\n",
       "      <th>TipoAfetamento</th>\n",
       "      <th>Valor</th>\n",
       "    </tr>\n",
       "  </thead>\n",
       "  <tbody>\n",
       "    <tr>\n",
       "      <th>17</th>\n",
       "      <td>564</td>\n",
       "      <td>2022</td>\n",
       "      <td>1</td>\n",
       "      <td>Município</td>\n",
       "      <td>PA</td>\n",
       "      <td>ITAITUBA</td>\n",
       "      <td>Produtor</td>\n",
       "      <td>MINÉRIO DE OURO</td>\n",
       "      <td>-</td>\n",
       "      <td>1.410849e+05</td>\n",
       "    </tr>\n",
       "    <tr>\n",
       "      <th>18</th>\n",
       "      <td>564</td>\n",
       "      <td>2022</td>\n",
       "      <td>1</td>\n",
       "      <td>Município</td>\n",
       "      <td>PA</td>\n",
       "      <td>CUMARU DO NORTE</td>\n",
       "      <td>Produtor</td>\n",
       "      <td>MINÉRIO DE OURO</td>\n",
       "      <td>-</td>\n",
       "      <td>8.535676e+04</td>\n",
       "    </tr>\n",
       "    <tr>\n",
       "      <th>19</th>\n",
       "      <td>564</td>\n",
       "      <td>2022</td>\n",
       "      <td>1</td>\n",
       "      <td>Município</td>\n",
       "      <td>PA</td>\n",
       "      <td>SANTA MARIA DAS BARREIRAS</td>\n",
       "      <td>Produtor</td>\n",
       "      <td>MINÉRIO DE OURO</td>\n",
       "      <td>-</td>\n",
       "      <td>7.644846e+04</td>\n",
       "    </tr>\n",
       "    <tr>\n",
       "      <th>20</th>\n",
       "      <td>564</td>\n",
       "      <td>2022</td>\n",
       "      <td>1</td>\n",
       "      <td>Município</td>\n",
       "      <td>PA</td>\n",
       "      <td>NOVO PROGRESSO</td>\n",
       "      <td>Produtor</td>\n",
       "      <td>MINÉRIO DE OURO</td>\n",
       "      <td>-</td>\n",
       "      <td>5.942526e+03</td>\n",
       "    </tr>\n",
       "    <tr>\n",
       "      <th>21</th>\n",
       "      <td>564</td>\n",
       "      <td>2022</td>\n",
       "      <td>1</td>\n",
       "      <td>Município</td>\n",
       "      <td>PA</td>\n",
       "      <td>RIO MARIA</td>\n",
       "      <td>Produtor</td>\n",
       "      <td>MINÉRIO DE OURO</td>\n",
       "      <td>-</td>\n",
       "      <td>2.448420e+03</td>\n",
       "    </tr>\n",
       "    <tr>\n",
       "      <th>42</th>\n",
       "      <td>574</td>\n",
       "      <td>2022</td>\n",
       "      <td>1</td>\n",
       "      <td>Município</td>\n",
       "      <td>PA</td>\n",
       "      <td>CUMARU DO NORTE</td>\n",
       "      <td>Afetado</td>\n",
       "      <td>MINÉRIO DE OURO</td>\n",
       "      <td>Estrutura de mineração</td>\n",
       "      <td>1.436121e+04</td>\n",
       "    </tr>\n",
       "    <tr>\n",
       "      <th>43</th>\n",
       "      <td>574</td>\n",
       "      <td>2022</td>\n",
       "      <td>1</td>\n",
       "      <td>Município</td>\n",
       "      <td>PA</td>\n",
       "      <td>SANTANA DO ARAGUAIA</td>\n",
       "      <td>Afetado</td>\n",
       "      <td>MINÉRIO DE OURO</td>\n",
       "      <td>Estrutura de mineração</td>\n",
       "      <td>1.641281e+03</td>\n",
       "    </tr>\n",
       "    <tr>\n",
       "      <th>70</th>\n",
       "      <td>575</td>\n",
       "      <td>2022</td>\n",
       "      <td>1</td>\n",
       "      <td>Município</td>\n",
       "      <td>PA</td>\n",
       "      <td>CUMARU DO NORTE</td>\n",
       "      <td>Afetado</td>\n",
       "      <td>MINÉRIO DE OURO</td>\n",
       "      <td>Estrutura de mineração</td>\n",
       "      <td>1.379024e+04</td>\n",
       "    </tr>\n",
       "    <tr>\n",
       "      <th>71</th>\n",
       "      <td>575</td>\n",
       "      <td>2022</td>\n",
       "      <td>1</td>\n",
       "      <td>Município</td>\n",
       "      <td>PA</td>\n",
       "      <td>SANTANA DO ARAGUAIA</td>\n",
       "      <td>Afetado</td>\n",
       "      <td>MINÉRIO DE OURO</td>\n",
       "      <td>Estrutura de mineração</td>\n",
       "      <td>1.576028e+03</td>\n",
       "    </tr>\n",
       "    <tr>\n",
       "      <th>98</th>\n",
       "      <td>576</td>\n",
       "      <td>2022</td>\n",
       "      <td>1</td>\n",
       "      <td>Município</td>\n",
       "      <td>PA</td>\n",
       "      <td>CUMARU DO NORTE</td>\n",
       "      <td>Afetado</td>\n",
       "      <td>MINÉRIO DE OURO</td>\n",
       "      <td>Estrutura de mineração</td>\n",
       "      <td>1.385164e+04</td>\n",
       "    </tr>\n",
       "    <tr>\n",
       "      <th>99</th>\n",
       "      <td>576</td>\n",
       "      <td>2022</td>\n",
       "      <td>1</td>\n",
       "      <td>Município</td>\n",
       "      <td>PA</td>\n",
       "      <td>SANTANA DO ARAGUAIA</td>\n",
       "      <td>Afetado</td>\n",
       "      <td>MINÉRIO DE OURO</td>\n",
       "      <td>Estrutura de mineração</td>\n",
       "      <td>1.583045e+03</td>\n",
       "    </tr>\n",
       "    <tr>\n",
       "      <th>126</th>\n",
       "      <td>577</td>\n",
       "      <td>2022</td>\n",
       "      <td>1</td>\n",
       "      <td>Município</td>\n",
       "      <td>PA</td>\n",
       "      <td>CUMARU DO NORTE</td>\n",
       "      <td>Afetado</td>\n",
       "      <td>MINÉRIO DE OURO</td>\n",
       "      <td>Estrutura de mineração</td>\n",
       "      <td>1.567537e+04</td>\n",
       "    </tr>\n",
       "    <tr>\n",
       "      <th>127</th>\n",
       "      <td>577</td>\n",
       "      <td>2022</td>\n",
       "      <td>1</td>\n",
       "      <td>Município</td>\n",
       "      <td>PA</td>\n",
       "      <td>SANTANA DO ARAGUAIA</td>\n",
       "      <td>Afetado</td>\n",
       "      <td>MINÉRIO DE OURO</td>\n",
       "      <td>Estrutura de mineração</td>\n",
       "      <td>1.791471e+03</td>\n",
       "    </tr>\n",
       "    <tr>\n",
       "      <th>150</th>\n",
       "      <td>580</td>\n",
       "      <td>2022</td>\n",
       "      <td>2</td>\n",
       "      <td>Município</td>\n",
       "      <td>PA</td>\n",
       "      <td>ITAITUBA</td>\n",
       "      <td>Produtor</td>\n",
       "      <td>MINÉRIO DE OURO</td>\n",
       "      <td>-</td>\n",
       "      <td>1.328654e+05</td>\n",
       "    </tr>\n",
       "    <tr>\n",
       "      <th>151</th>\n",
       "      <td>580</td>\n",
       "      <td>2022</td>\n",
       "      <td>2</td>\n",
       "      <td>Município</td>\n",
       "      <td>PA</td>\n",
       "      <td>NOVO PROGRESSO</td>\n",
       "      <td>Produtor</td>\n",
       "      <td>MINÉRIO DE OURO</td>\n",
       "      <td>-</td>\n",
       "      <td>3.050637e+04</td>\n",
       "    </tr>\n",
       "    <tr>\n",
       "      <th>152</th>\n",
       "      <td>580</td>\n",
       "      <td>2022</td>\n",
       "      <td>2</td>\n",
       "      <td>Município</td>\n",
       "      <td>PA</td>\n",
       "      <td>JACAREACANGA</td>\n",
       "      <td>Produtor</td>\n",
       "      <td>MINÉRIO DE OURO</td>\n",
       "      <td>-</td>\n",
       "      <td>2.136302e+04</td>\n",
       "    </tr>\n",
       "    <tr>\n",
       "      <th>153</th>\n",
       "      <td>580</td>\n",
       "      <td>2022</td>\n",
       "      <td>2</td>\n",
       "      <td>Município</td>\n",
       "      <td>PA</td>\n",
       "      <td>SANTA MARIA DAS BARREIRAS</td>\n",
       "      <td>Produtor</td>\n",
       "      <td>MINÉRIO DE OURO</td>\n",
       "      <td>-</td>\n",
       "      <td>1.801310e+04</td>\n",
       "    </tr>\n",
       "    <tr>\n",
       "      <th>172</th>\n",
       "      <td>591</td>\n",
       "      <td>2022</td>\n",
       "      <td>4</td>\n",
       "      <td>Município</td>\n",
       "      <td>PA</td>\n",
       "      <td>ITAITUBA</td>\n",
       "      <td>Produtor</td>\n",
       "      <td>MINÉRIO DE OURO</td>\n",
       "      <td>-</td>\n",
       "      <td>4.449937e+05</td>\n",
       "    </tr>\n",
       "    <tr>\n",
       "      <th>173</th>\n",
       "      <td>591</td>\n",
       "      <td>2022</td>\n",
       "      <td>4</td>\n",
       "      <td>Município</td>\n",
       "      <td>PA</td>\n",
       "      <td>NOVO PROGRESSO</td>\n",
       "      <td>Produtor</td>\n",
       "      <td>MINÉRIO DE OURO</td>\n",
       "      <td>-</td>\n",
       "      <td>2.480072e+05</td>\n",
       "    </tr>\n",
       "    <tr>\n",
       "      <th>174</th>\n",
       "      <td>591</td>\n",
       "      <td>2022</td>\n",
       "      <td>4</td>\n",
       "      <td>Município</td>\n",
       "      <td>PA</td>\n",
       "      <td>CUMARU DO NORTE</td>\n",
       "      <td>Produtor</td>\n",
       "      <td>MINÉRIO DE OURO</td>\n",
       "      <td>-</td>\n",
       "      <td>1.356228e+05</td>\n",
       "    </tr>\n",
       "    <tr>\n",
       "      <th>175</th>\n",
       "      <td>591</td>\n",
       "      <td>2022</td>\n",
       "      <td>4</td>\n",
       "      <td>Município</td>\n",
       "      <td>PA</td>\n",
       "      <td>SANTA MARIA DAS BARREIRAS</td>\n",
       "      <td>Produtor</td>\n",
       "      <td>MINÉRIO DE OURO</td>\n",
       "      <td>-</td>\n",
       "      <td>4.416350e+04</td>\n",
       "    </tr>\n",
       "    <tr>\n",
       "      <th>176</th>\n",
       "      <td>591</td>\n",
       "      <td>2022</td>\n",
       "      <td>4</td>\n",
       "      <td>Município</td>\n",
       "      <td>PA</td>\n",
       "      <td>SENADOR JOSÉ PORFÍRIO</td>\n",
       "      <td>Produtor</td>\n",
       "      <td>MINÉRIO DE OURO</td>\n",
       "      <td>-</td>\n",
       "      <td>2.166636e+03</td>\n",
       "    </tr>\n",
       "    <tr>\n",
       "      <th>199</th>\n",
       "      <td>593</td>\n",
       "      <td>2022</td>\n",
       "      <td>4</td>\n",
       "      <td>Município</td>\n",
       "      <td>PA</td>\n",
       "      <td>ITAITUBA</td>\n",
       "      <td>Produtor</td>\n",
       "      <td>MINÉRIO DE OURO</td>\n",
       "      <td>-</td>\n",
       "      <td>2.240899e+05</td>\n",
       "    </tr>\n",
       "    <tr>\n",
       "      <th>200</th>\n",
       "      <td>593</td>\n",
       "      <td>2022</td>\n",
       "      <td>4</td>\n",
       "      <td>Município</td>\n",
       "      <td>PA</td>\n",
       "      <td>NOVO PROGRESSO</td>\n",
       "      <td>Produtor</td>\n",
       "      <td>MINÉRIO DE OURO</td>\n",
       "      <td>-</td>\n",
       "      <td>1.426210e+05</td>\n",
       "    </tr>\n",
       "    <tr>\n",
       "      <th>201</th>\n",
       "      <td>593</td>\n",
       "      <td>2022</td>\n",
       "      <td>4</td>\n",
       "      <td>Município</td>\n",
       "      <td>PA</td>\n",
       "      <td>CUMARU DO NORTE</td>\n",
       "      <td>Produtor</td>\n",
       "      <td>MINÉRIO DE OURO</td>\n",
       "      <td>-</td>\n",
       "      <td>4.480876e+04</td>\n",
       "    </tr>\n",
       "    <tr>\n",
       "      <th>202</th>\n",
       "      <td>593</td>\n",
       "      <td>2022</td>\n",
       "      <td>4</td>\n",
       "      <td>Município</td>\n",
       "      <td>PA</td>\n",
       "      <td>SANTA MARIA DAS BARREIRAS</td>\n",
       "      <td>Produtor</td>\n",
       "      <td>MINÉRIO DE OURO</td>\n",
       "      <td>-</td>\n",
       "      <td>3.220104e+04</td>\n",
       "    </tr>\n",
       "    <tr>\n",
       "      <th>205</th>\n",
       "      <td>593</td>\n",
       "      <td>2022</td>\n",
       "      <td>4</td>\n",
       "      <td>UF</td>\n",
       "      <td>PA</td>\n",
       "      <td>Pará</td>\n",
       "      <td>-</td>\n",
       "      <td>MINÉRIO DE OURO</td>\n",
       "      <td>-</td>\n",
       "      <td>5.537380e+04</td>\n",
       "    </tr>\n",
       "    <tr>\n",
       "      <th>219</th>\n",
       "      <td>594</td>\n",
       "      <td>2022</td>\n",
       "      <td>9</td>\n",
       "      <td>Município</td>\n",
       "      <td>PA</td>\n",
       "      <td>ITAITUBA</td>\n",
       "      <td>Produtor</td>\n",
       "      <td>MINÉRIO DE OURO</td>\n",
       "      <td>-</td>\n",
       "      <td>4.703859e+05</td>\n",
       "    </tr>\n",
       "    <tr>\n",
       "      <th>220</th>\n",
       "      <td>594</td>\n",
       "      <td>2022</td>\n",
       "      <td>9</td>\n",
       "      <td>Município</td>\n",
       "      <td>PA</td>\n",
       "      <td>ÁGUA AZUL DO NORTE</td>\n",
       "      <td>Produtor</td>\n",
       "      <td>MINÉRIO DE OURO</td>\n",
       "      <td>-</td>\n",
       "      <td>1.515336e+05</td>\n",
       "    </tr>\n",
       "    <tr>\n",
       "      <th>221</th>\n",
       "      <td>594</td>\n",
       "      <td>2022</td>\n",
       "      <td>9</td>\n",
       "      <td>Município</td>\n",
       "      <td>PA</td>\n",
       "      <td>CUMARU DO NORTE</td>\n",
       "      <td>Produtor</td>\n",
       "      <td>MINÉRIO DE OURO</td>\n",
       "      <td>-</td>\n",
       "      <td>1.201146e+04</td>\n",
       "    </tr>\n",
       "    <tr>\n",
       "      <th>239</th>\n",
       "      <td>595</td>\n",
       "      <td>2022</td>\n",
       "      <td>8</td>\n",
       "      <td>Município</td>\n",
       "      <td>PA</td>\n",
       "      <td>ITAITUBA</td>\n",
       "      <td>Produtor</td>\n",
       "      <td>MINÉRIO DE OURO</td>\n",
       "      <td>-</td>\n",
       "      <td>2.342722e+05</td>\n",
       "    </tr>\n",
       "    <tr>\n",
       "      <th>240</th>\n",
       "      <td>595</td>\n",
       "      <td>2022</td>\n",
       "      <td>8</td>\n",
       "      <td>Município</td>\n",
       "      <td>PA</td>\n",
       "      <td>SANTA MARIA DAS BARREIRAS</td>\n",
       "      <td>Produtor</td>\n",
       "      <td>MINÉRIO DE OURO</td>\n",
       "      <td>-</td>\n",
       "      <td>5.405004e+04</td>\n",
       "    </tr>\n",
       "    <tr>\n",
       "      <th>241</th>\n",
       "      <td>595</td>\n",
       "      <td>2022</td>\n",
       "      <td>8</td>\n",
       "      <td>Município</td>\n",
       "      <td>PA</td>\n",
       "      <td>NOVO PROGRESSO</td>\n",
       "      <td>Produtor</td>\n",
       "      <td>MINÉRIO DE OURO</td>\n",
       "      <td>-</td>\n",
       "      <td>1.520907e+04</td>\n",
       "    </tr>\n",
       "    <tr>\n",
       "      <th>242</th>\n",
       "      <td>595</td>\n",
       "      <td>2022</td>\n",
       "      <td>8</td>\n",
       "      <td>Município</td>\n",
       "      <td>PA</td>\n",
       "      <td>JACAREACANGA</td>\n",
       "      <td>Produtor</td>\n",
       "      <td>MINÉRIO DE OURO</td>\n",
       "      <td>-</td>\n",
       "      <td>4.376382e+03</td>\n",
       "    </tr>\n",
       "    <tr>\n",
       "      <th>251</th>\n",
       "      <td>595</td>\n",
       "      <td>2022</td>\n",
       "      <td>8</td>\n",
       "      <td>UF</td>\n",
       "      <td>PA</td>\n",
       "      <td>Pará</td>\n",
       "      <td>-</td>\n",
       "      <td>MINÉRIO DE OURO</td>\n",
       "      <td>-</td>\n",
       "      <td>1.170170e+06</td>\n",
       "    </tr>\n",
       "    <tr>\n",
       "      <th>265</th>\n",
       "      <td>596</td>\n",
       "      <td>2022</td>\n",
       "      <td>7</td>\n",
       "      <td>Município</td>\n",
       "      <td>PA</td>\n",
       "      <td>ITAITUBA</td>\n",
       "      <td>Produtor</td>\n",
       "      <td>MINÉRIO DE OURO</td>\n",
       "      <td>-</td>\n",
       "      <td>1.877006e+05</td>\n",
       "    </tr>\n",
       "    <tr>\n",
       "      <th>266</th>\n",
       "      <td>596</td>\n",
       "      <td>2022</td>\n",
       "      <td>7</td>\n",
       "      <td>Município</td>\n",
       "      <td>PA</td>\n",
       "      <td>NOVO PROGRESSO</td>\n",
       "      <td>Produtor</td>\n",
       "      <td>MINÉRIO DE OURO</td>\n",
       "      <td>-</td>\n",
       "      <td>7.000523e+04</td>\n",
       "    </tr>\n",
       "    <tr>\n",
       "      <th>267</th>\n",
       "      <td>596</td>\n",
       "      <td>2022</td>\n",
       "      <td>7</td>\n",
       "      <td>Município</td>\n",
       "      <td>PA</td>\n",
       "      <td>CUMARU DO NORTE</td>\n",
       "      <td>Produtor</td>\n",
       "      <td>MINÉRIO DE OURO</td>\n",
       "      <td>-</td>\n",
       "      <td>1.461824e+04</td>\n",
       "    </tr>\n",
       "    <tr>\n",
       "      <th>268</th>\n",
       "      <td>596</td>\n",
       "      <td>2022</td>\n",
       "      <td>7</td>\n",
       "      <td>Município</td>\n",
       "      <td>PA</td>\n",
       "      <td>FLORESTA DO ARAGUAIA</td>\n",
       "      <td>Produtor</td>\n",
       "      <td>MINÉRIO DE OURO</td>\n",
       "      <td>-</td>\n",
       "      <td>6.778506e+03</td>\n",
       "    </tr>\n",
       "    <tr>\n",
       "      <th>278</th>\n",
       "      <td>596</td>\n",
       "      <td>2022</td>\n",
       "      <td>7</td>\n",
       "      <td>UF</td>\n",
       "      <td>PA</td>\n",
       "      <td>Pará</td>\n",
       "      <td>-</td>\n",
       "      <td>MINÉRIO DE OURO</td>\n",
       "      <td>-</td>\n",
       "      <td>1.393139e+06</td>\n",
       "    </tr>\n",
       "    <tr>\n",
       "      <th>293</th>\n",
       "      <td>597</td>\n",
       "      <td>2022</td>\n",
       "      <td>6</td>\n",
       "      <td>Município</td>\n",
       "      <td>PA</td>\n",
       "      <td>ITAITUBA</td>\n",
       "      <td>Produtor</td>\n",
       "      <td>MINÉRIO DE OURO</td>\n",
       "      <td>-</td>\n",
       "      <td>4.358769e+05</td>\n",
       "    </tr>\n",
       "    <tr>\n",
       "      <th>294</th>\n",
       "      <td>597</td>\n",
       "      <td>2022</td>\n",
       "      <td>6</td>\n",
       "      <td>Município</td>\n",
       "      <td>PA</td>\n",
       "      <td>CUMARU DO NORTE</td>\n",
       "      <td>Produtor</td>\n",
       "      <td>MINÉRIO DE OURO</td>\n",
       "      <td>-</td>\n",
       "      <td>9.730821e+04</td>\n",
       "    </tr>\n",
       "    <tr>\n",
       "      <th>295</th>\n",
       "      <td>597</td>\n",
       "      <td>2022</td>\n",
       "      <td>6</td>\n",
       "      <td>Município</td>\n",
       "      <td>PA</td>\n",
       "      <td>SANTA MARIA DAS BARREIRAS</td>\n",
       "      <td>Produtor</td>\n",
       "      <td>MINÉRIO DE OURO</td>\n",
       "      <td>-</td>\n",
       "      <td>6.682577e+04</td>\n",
       "    </tr>\n",
       "    <tr>\n",
       "      <th>296</th>\n",
       "      <td>597</td>\n",
       "      <td>2022</td>\n",
       "      <td>6</td>\n",
       "      <td>Município</td>\n",
       "      <td>PA</td>\n",
       "      <td>RIO MARIA</td>\n",
       "      <td>Produtor</td>\n",
       "      <td>MINÉRIO DE OURO</td>\n",
       "      <td>-</td>\n",
       "      <td>2.177514e+03</td>\n",
       "    </tr>\n",
       "    <tr>\n",
       "      <th>304</th>\n",
       "      <td>597</td>\n",
       "      <td>2022</td>\n",
       "      <td>6</td>\n",
       "      <td>UF</td>\n",
       "      <td>PA</td>\n",
       "      <td>Pará</td>\n",
       "      <td>-</td>\n",
       "      <td>MINÉRIO DE OURO</td>\n",
       "      <td>-</td>\n",
       "      <td>1.649491e+06</td>\n",
       "    </tr>\n",
       "    <tr>\n",
       "      <th>322</th>\n",
       "      <td>598</td>\n",
       "      <td>2022</td>\n",
       "      <td>5</td>\n",
       "      <td>Município</td>\n",
       "      <td>PA</td>\n",
       "      <td>ITAITUBA</td>\n",
       "      <td>Produtor</td>\n",
       "      <td>MINÉRIO DE OURO</td>\n",
       "      <td>-</td>\n",
       "      <td>3.337938e+05</td>\n",
       "    </tr>\n",
       "    <tr>\n",
       "      <th>323</th>\n",
       "      <td>598</td>\n",
       "      <td>2022</td>\n",
       "      <td>5</td>\n",
       "      <td>Município</td>\n",
       "      <td>PA</td>\n",
       "      <td>NOVO PROGRESSO</td>\n",
       "      <td>Produtor</td>\n",
       "      <td>MINÉRIO DE OURO</td>\n",
       "      <td>-</td>\n",
       "      <td>1.306594e+05</td>\n",
       "    </tr>\n",
       "    <tr>\n",
       "      <th>324</th>\n",
       "      <td>598</td>\n",
       "      <td>2022</td>\n",
       "      <td>5</td>\n",
       "      <td>Município</td>\n",
       "      <td>PA</td>\n",
       "      <td>CUMARU DO NORTE</td>\n",
       "      <td>Produtor</td>\n",
       "      <td>MINÉRIO DE OURO</td>\n",
       "      <td>-</td>\n",
       "      <td>1.241935e+05</td>\n",
       "    </tr>\n",
       "    <tr>\n",
       "      <th>325</th>\n",
       "      <td>598</td>\n",
       "      <td>2022</td>\n",
       "      <td>5</td>\n",
       "      <td>Município</td>\n",
       "      <td>PA</td>\n",
       "      <td>FLORESTA DO ARAGUAIA</td>\n",
       "      <td>Produtor</td>\n",
       "      <td>MINÉRIO DE OURO</td>\n",
       "      <td>-</td>\n",
       "      <td>4.463606e+04</td>\n",
       "    </tr>\n",
       "    <tr>\n",
       "      <th>326</th>\n",
       "      <td>598</td>\n",
       "      <td>2022</td>\n",
       "      <td>5</td>\n",
       "      <td>Município</td>\n",
       "      <td>PA</td>\n",
       "      <td>SANTA MARIA DAS BARREIRAS</td>\n",
       "      <td>Produtor</td>\n",
       "      <td>MINÉRIO DE OURO</td>\n",
       "      <td>-</td>\n",
       "      <td>1.917076e+04</td>\n",
       "    </tr>\n",
       "    <tr>\n",
       "      <th>335</th>\n",
       "      <td>598</td>\n",
       "      <td>2022</td>\n",
       "      <td>5</td>\n",
       "      <td>UF</td>\n",
       "      <td>PA</td>\n",
       "      <td>Pará</td>\n",
       "      <td>-</td>\n",
       "      <td>MINÉRIO DE OURO</td>\n",
       "      <td>-</td>\n",
       "      <td>1.606214e+06</td>\n",
       "    </tr>\n",
       "    <tr>\n",
       "      <th>357</th>\n",
       "      <td>601</td>\n",
       "      <td>2022</td>\n",
       "      <td>5</td>\n",
       "      <td>Município</td>\n",
       "      <td>PA</td>\n",
       "      <td>CUMARU DO NORTE</td>\n",
       "      <td>Afetado</td>\n",
       "      <td>MINÉRIO DE OURO</td>\n",
       "      <td>Estrutura de mineração</td>\n",
       "      <td>1.289780e+04</td>\n",
       "    </tr>\n",
       "    <tr>\n",
       "      <th>358</th>\n",
       "      <td>601</td>\n",
       "      <td>2022</td>\n",
       "      <td>5</td>\n",
       "      <td>Município</td>\n",
       "      <td>PA</td>\n",
       "      <td>SANTANA DO ARAGUAIA</td>\n",
       "      <td>Afetado</td>\n",
       "      <td>MINÉRIO DE OURO</td>\n",
       "      <td>Estrutura de mineração</td>\n",
       "      <td>1.474034e+03</td>\n",
       "    </tr>\n",
       "    <tr>\n",
       "      <th>385</th>\n",
       "      <td>602</td>\n",
       "      <td>2022</td>\n",
       "      <td>7</td>\n",
       "      <td>Município</td>\n",
       "      <td>PA</td>\n",
       "      <td>CUMARU DO NORTE</td>\n",
       "      <td>Afetado</td>\n",
       "      <td>MINÉRIO DE OURO</td>\n",
       "      <td>Estrutura de mineração</td>\n",
       "      <td>1.239583e+04</td>\n",
       "    </tr>\n",
       "    <tr>\n",
       "      <th>386</th>\n",
       "      <td>602</td>\n",
       "      <td>2022</td>\n",
       "      <td>7</td>\n",
       "      <td>Município</td>\n",
       "      <td>PA</td>\n",
       "      <td>SANTANA DO ARAGUAIA</td>\n",
       "      <td>Afetado</td>\n",
       "      <td>MINÉRIO DE OURO</td>\n",
       "      <td>Estrutura de mineração</td>\n",
       "      <td>1.416666e+03</td>\n",
       "    </tr>\n",
       "    <tr>\n",
       "      <th>413</th>\n",
       "      <td>603</td>\n",
       "      <td>2022</td>\n",
       "      <td>7</td>\n",
       "      <td>Município</td>\n",
       "      <td>PA</td>\n",
       "      <td>CUMARU DO NORTE</td>\n",
       "      <td>Afetado</td>\n",
       "      <td>MINÉRIO DE OURO</td>\n",
       "      <td>Estrutura de mineração</td>\n",
       "      <td>1.240258e+04</td>\n",
       "    </tr>\n",
       "    <tr>\n",
       "      <th>414</th>\n",
       "      <td>603</td>\n",
       "      <td>2022</td>\n",
       "      <td>7</td>\n",
       "      <td>Município</td>\n",
       "      <td>PA</td>\n",
       "      <td>SANTANA DO ARAGUAIA</td>\n",
       "      <td>Afetado</td>\n",
       "      <td>MINÉRIO DE OURO</td>\n",
       "      <td>Estrutura de mineração</td>\n",
       "      <td>1.417437e+03</td>\n",
       "    </tr>\n",
       "    <tr>\n",
       "      <th>441</th>\n",
       "      <td>604</td>\n",
       "      <td>2022</td>\n",
       "      <td>8</td>\n",
       "      <td>Município</td>\n",
       "      <td>PA</td>\n",
       "      <td>CUMARU DO NORTE</td>\n",
       "      <td>Afetado</td>\n",
       "      <td>MINÉRIO DE OURO</td>\n",
       "      <td>Estrutura de mineração</td>\n",
       "      <td>1.261849e+04</td>\n",
       "    </tr>\n",
       "    <tr>\n",
       "      <th>442</th>\n",
       "      <td>604</td>\n",
       "      <td>2022</td>\n",
       "      <td>8</td>\n",
       "      <td>Município</td>\n",
       "      <td>PA</td>\n",
       "      <td>SANTANA DO ARAGUAIA</td>\n",
       "      <td>Afetado</td>\n",
       "      <td>MINÉRIO DE OURO</td>\n",
       "      <td>Estrutura de mineração</td>\n",
       "      <td>1.442113e+03</td>\n",
       "    </tr>\n",
       "  </tbody>\n",
       "</table>\n",
       "</div>"
      ],
      "text/plain": [
       "     NúmeroDeDistribuição   Ano  Mês       Ente SiglaEstado  \\\n",
       "17                    564  2022    1  Município          PA   \n",
       "18                    564  2022    1  Município          PA   \n",
       "19                    564  2022    1  Município          PA   \n",
       "20                    564  2022    1  Município          PA   \n",
       "21                    564  2022    1  Município          PA   \n",
       "42                    574  2022    1  Município          PA   \n",
       "43                    574  2022    1  Município          PA   \n",
       "70                    575  2022    1  Município          PA   \n",
       "71                    575  2022    1  Município          PA   \n",
       "98                    576  2022    1  Município          PA   \n",
       "99                    576  2022    1  Município          PA   \n",
       "126                   577  2022    1  Município          PA   \n",
       "127                   577  2022    1  Município          PA   \n",
       "150                   580  2022    2  Município          PA   \n",
       "151                   580  2022    2  Município          PA   \n",
       "152                   580  2022    2  Município          PA   \n",
       "153                   580  2022    2  Município          PA   \n",
       "172                   591  2022    4  Município          PA   \n",
       "173                   591  2022    4  Município          PA   \n",
       "174                   591  2022    4  Município          PA   \n",
       "175                   591  2022    4  Município          PA   \n",
       "176                   591  2022    4  Município          PA   \n",
       "199                   593  2022    4  Município          PA   \n",
       "200                   593  2022    4  Município          PA   \n",
       "201                   593  2022    4  Município          PA   \n",
       "202                   593  2022    4  Município          PA   \n",
       "205                   593  2022    4         UF          PA   \n",
       "219                   594  2022    9  Município          PA   \n",
       "220                   594  2022    9  Município          PA   \n",
       "221                   594  2022    9  Município          PA   \n",
       "239                   595  2022    8  Município          PA   \n",
       "240                   595  2022    8  Município          PA   \n",
       "241                   595  2022    8  Município          PA   \n",
       "242                   595  2022    8  Município          PA   \n",
       "251                   595  2022    8         UF          PA   \n",
       "265                   596  2022    7  Município          PA   \n",
       "266                   596  2022    7  Município          PA   \n",
       "267                   596  2022    7  Município          PA   \n",
       "268                   596  2022    7  Município          PA   \n",
       "278                   596  2022    7         UF          PA   \n",
       "293                   597  2022    6  Município          PA   \n",
       "294                   597  2022    6  Município          PA   \n",
       "295                   597  2022    6  Município          PA   \n",
       "296                   597  2022    6  Município          PA   \n",
       "304                   597  2022    6         UF          PA   \n",
       "322                   598  2022    5  Município          PA   \n",
       "323                   598  2022    5  Município          PA   \n",
       "324                   598  2022    5  Município          PA   \n",
       "325                   598  2022    5  Município          PA   \n",
       "326                   598  2022    5  Município          PA   \n",
       "335                   598  2022    5         UF          PA   \n",
       "357                   601  2022    5  Município          PA   \n",
       "358                   601  2022    5  Município          PA   \n",
       "385                   602  2022    7  Município          PA   \n",
       "386                   602  2022    7  Município          PA   \n",
       "413                   603  2022    7  Município          PA   \n",
       "414                   603  2022    7  Município          PA   \n",
       "441                   604  2022    8  Município          PA   \n",
       "442                   604  2022    8  Município          PA   \n",
       "\n",
       "                      NomeEnte TipoDistribuição       Substância  \\\n",
       "17                    ITAITUBA         Produtor  MINÉRIO DE OURO   \n",
       "18             CUMARU DO NORTE         Produtor  MINÉRIO DE OURO   \n",
       "19   SANTA MARIA DAS BARREIRAS         Produtor  MINÉRIO DE OURO   \n",
       "20              NOVO PROGRESSO         Produtor  MINÉRIO DE OURO   \n",
       "21                   RIO MARIA         Produtor  MINÉRIO DE OURO   \n",
       "42             CUMARU DO NORTE          Afetado  MINÉRIO DE OURO   \n",
       "43         SANTANA DO ARAGUAIA          Afetado  MINÉRIO DE OURO   \n",
       "70             CUMARU DO NORTE          Afetado  MINÉRIO DE OURO   \n",
       "71         SANTANA DO ARAGUAIA          Afetado  MINÉRIO DE OURO   \n",
       "98             CUMARU DO NORTE          Afetado  MINÉRIO DE OURO   \n",
       "99         SANTANA DO ARAGUAIA          Afetado  MINÉRIO DE OURO   \n",
       "126            CUMARU DO NORTE          Afetado  MINÉRIO DE OURO   \n",
       "127        SANTANA DO ARAGUAIA          Afetado  MINÉRIO DE OURO   \n",
       "150                   ITAITUBA         Produtor  MINÉRIO DE OURO   \n",
       "151             NOVO PROGRESSO         Produtor  MINÉRIO DE OURO   \n",
       "152               JACAREACANGA         Produtor  MINÉRIO DE OURO   \n",
       "153  SANTA MARIA DAS BARREIRAS         Produtor  MINÉRIO DE OURO   \n",
       "172                   ITAITUBA         Produtor  MINÉRIO DE OURO   \n",
       "173             NOVO PROGRESSO         Produtor  MINÉRIO DE OURO   \n",
       "174            CUMARU DO NORTE         Produtor  MINÉRIO DE OURO   \n",
       "175  SANTA MARIA DAS BARREIRAS         Produtor  MINÉRIO DE OURO   \n",
       "176      SENADOR JOSÉ PORFÍRIO         Produtor  MINÉRIO DE OURO   \n",
       "199                   ITAITUBA         Produtor  MINÉRIO DE OURO   \n",
       "200             NOVO PROGRESSO         Produtor  MINÉRIO DE OURO   \n",
       "201            CUMARU DO NORTE         Produtor  MINÉRIO DE OURO   \n",
       "202  SANTA MARIA DAS BARREIRAS         Produtor  MINÉRIO DE OURO   \n",
       "205                       Pará                -  MINÉRIO DE OURO   \n",
       "219                   ITAITUBA         Produtor  MINÉRIO DE OURO   \n",
       "220         ÁGUA AZUL DO NORTE         Produtor  MINÉRIO DE OURO   \n",
       "221            CUMARU DO NORTE         Produtor  MINÉRIO DE OURO   \n",
       "239                   ITAITUBA         Produtor  MINÉRIO DE OURO   \n",
       "240  SANTA MARIA DAS BARREIRAS         Produtor  MINÉRIO DE OURO   \n",
       "241             NOVO PROGRESSO         Produtor  MINÉRIO DE OURO   \n",
       "242               JACAREACANGA         Produtor  MINÉRIO DE OURO   \n",
       "251                       Pará                -  MINÉRIO DE OURO   \n",
       "265                   ITAITUBA         Produtor  MINÉRIO DE OURO   \n",
       "266             NOVO PROGRESSO         Produtor  MINÉRIO DE OURO   \n",
       "267            CUMARU DO NORTE         Produtor  MINÉRIO DE OURO   \n",
       "268       FLORESTA DO ARAGUAIA         Produtor  MINÉRIO DE OURO   \n",
       "278                       Pará                -  MINÉRIO DE OURO   \n",
       "293                   ITAITUBA         Produtor  MINÉRIO DE OURO   \n",
       "294            CUMARU DO NORTE         Produtor  MINÉRIO DE OURO   \n",
       "295  SANTA MARIA DAS BARREIRAS         Produtor  MINÉRIO DE OURO   \n",
       "296                  RIO MARIA         Produtor  MINÉRIO DE OURO   \n",
       "304                       Pará                -  MINÉRIO DE OURO   \n",
       "322                   ITAITUBA         Produtor  MINÉRIO DE OURO   \n",
       "323             NOVO PROGRESSO         Produtor  MINÉRIO DE OURO   \n",
       "324            CUMARU DO NORTE         Produtor  MINÉRIO DE OURO   \n",
       "325       FLORESTA DO ARAGUAIA         Produtor  MINÉRIO DE OURO   \n",
       "326  SANTA MARIA DAS BARREIRAS         Produtor  MINÉRIO DE OURO   \n",
       "335                       Pará                -  MINÉRIO DE OURO   \n",
       "357            CUMARU DO NORTE          Afetado  MINÉRIO DE OURO   \n",
       "358        SANTANA DO ARAGUAIA          Afetado  MINÉRIO DE OURO   \n",
       "385            CUMARU DO NORTE          Afetado  MINÉRIO DE OURO   \n",
       "386        SANTANA DO ARAGUAIA          Afetado  MINÉRIO DE OURO   \n",
       "413            CUMARU DO NORTE          Afetado  MINÉRIO DE OURO   \n",
       "414        SANTANA DO ARAGUAIA          Afetado  MINÉRIO DE OURO   \n",
       "441            CUMARU DO NORTE          Afetado  MINÉRIO DE OURO   \n",
       "442        SANTANA DO ARAGUAIA          Afetado  MINÉRIO DE OURO   \n",
       "\n",
       "             TipoAfetamento         Valor  \n",
       "17                        -  1.410849e+05  \n",
       "18                        -  8.535676e+04  \n",
       "19                        -  7.644846e+04  \n",
       "20                        -  5.942526e+03  \n",
       "21                        -  2.448420e+03  \n",
       "42   Estrutura de mineração  1.436121e+04  \n",
       "43   Estrutura de mineração  1.641281e+03  \n",
       "70   Estrutura de mineração  1.379024e+04  \n",
       "71   Estrutura de mineração  1.576028e+03  \n",
       "98   Estrutura de mineração  1.385164e+04  \n",
       "99   Estrutura de mineração  1.583045e+03  \n",
       "126  Estrutura de mineração  1.567537e+04  \n",
       "127  Estrutura de mineração  1.791471e+03  \n",
       "150                       -  1.328654e+05  \n",
       "151                       -  3.050637e+04  \n",
       "152                       -  2.136302e+04  \n",
       "153                       -  1.801310e+04  \n",
       "172                       -  4.449937e+05  \n",
       "173                       -  2.480072e+05  \n",
       "174                       -  1.356228e+05  \n",
       "175                       -  4.416350e+04  \n",
       "176                       -  2.166636e+03  \n",
       "199                       -  2.240899e+05  \n",
       "200                       -  1.426210e+05  \n",
       "201                       -  4.480876e+04  \n",
       "202                       -  3.220104e+04  \n",
       "205                       -  5.537380e+04  \n",
       "219                       -  4.703859e+05  \n",
       "220                       -  1.515336e+05  \n",
       "221                       -  1.201146e+04  \n",
       "239                       -  2.342722e+05  \n",
       "240                       -  5.405004e+04  \n",
       "241                       -  1.520907e+04  \n",
       "242                       -  4.376382e+03  \n",
       "251                       -  1.170170e+06  \n",
       "265                       -  1.877006e+05  \n",
       "266                       -  7.000523e+04  \n",
       "267                       -  1.461824e+04  \n",
       "268                       -  6.778506e+03  \n",
       "278                       -  1.393139e+06  \n",
       "293                       -  4.358769e+05  \n",
       "294                       -  9.730821e+04  \n",
       "295                       -  6.682577e+04  \n",
       "296                       -  2.177514e+03  \n",
       "304                       -  1.649491e+06  \n",
       "322                       -  3.337938e+05  \n",
       "323                       -  1.306594e+05  \n",
       "324                       -  1.241935e+05  \n",
       "325                       -  4.463606e+04  \n",
       "326                       -  1.917076e+04  \n",
       "335                       -  1.606214e+06  \n",
       "357  Estrutura de mineração  1.289780e+04  \n",
       "358  Estrutura de mineração  1.474034e+03  \n",
       "385  Estrutura de mineração  1.239583e+04  \n",
       "386  Estrutura de mineração  1.416666e+03  \n",
       "413  Estrutura de mineração  1.240258e+04  \n",
       "414  Estrutura de mineração  1.417437e+03  \n",
       "441  Estrutura de mineração  1.261849e+04  \n",
       "442  Estrutura de mineração  1.442113e+03  "
      ]
     },
     "execution_count": 17,
     "metadata": {},
     "output_type": "execute_result"
    }
   ],
   "source": [
    "cfem_distribuidora_PA= cfem_distribuidora.loc[(cfem_distribuidora['SiglaEstado'] == 'PA')]\n",
    "cfem_distribuidora_PA"
   ]
  },
  {
   "cell_type": "markdown",
   "id": "debe712d",
   "metadata": {},
   "source": [
    "# Soma do Valor por Estado PA nos meses de 2022 = 10.303.008,93"
   ]
  },
  {
   "cell_type": "code",
   "execution_count": 85,
   "id": "e3aa483b",
   "metadata": {},
   "outputs": [
    {
     "data": {
      "text/plain": [
       "10303008.932569"
      ]
     },
     "execution_count": 85,
     "metadata": {},
     "output_type": "execute_result"
    }
   ],
   "source": [
    "cfem_distribuidora_PA.Valor.sum()"
   ]
  },
  {
   "cell_type": "code",
   "execution_count": 18,
   "id": "a65ea276",
   "metadata": {},
   "outputs": [
    {
     "data": {
      "text/plain": [
       "<Figure size 1440x576 with 0 Axes>"
      ]
     },
     "metadata": {},
     "output_type": "display_data"
    },
    {
     "data": {
      "image/png": "[encoded data removed]",
      "text/plain": [
       "<Figure size 360x360 with 1 Axes>"
      ]
     },
     "metadata": {
      "needs_background": "light"
     },
     "output_type": "display_data"
    }
   ],
   "source": [
    "plt.figure(figsize=(20,8))\n",
    "sns.catplot(data=cfem_distribuidora_PA, y='Valor', x=\"Mês\", ci=200 )\n",
    "plt.title(\"Estado PA x Valor\",fontsize=18)\n",
    "plt.xlabel('Mês 2022', fontsize=(20))\n",
    "plt.ylabel('Valor (milhão)', fontsize=(20))\n",
    "plt.grid()"
   ]
  },
  {
   "cell_type": "markdown",
   "id": "2c9d8b8b",
   "metadata": {},
   "source": [
    "# Rondônia"
   ]
  },
  {
   "cell_type": "code",
   "execution_count": 19,
   "id": "55644f42",
   "metadata": {},
   "outputs": [
    {
     "data": {
      "text/html": [
       "<div>\n",
       "<style scoped>\n",
       "    .dataframe tbody tr th:only-of-type {\n",
       "        vertical-align: middle;\n",
       "    }\n",
       "\n",
       "    .dataframe tbody tr th {\n",
       "        vertical-align: top;\n",
       "    }\n",
       "\n",
       "    .dataframe thead th {\n",
       "        text-align: right;\n",
       "    }\n",
       "</style>\n",
       "<table border=\"1\" class=\"dataframe\">\n",
       "  <thead>\n",
       "    <tr style=\"text-align: right;\">\n",
       "      <th></th>\n",
       "      <th>NúmeroDeDistribuição</th>\n",
       "      <th>Ano</th>\n",
       "      <th>Mês</th>\n",
       "      <th>Ente</th>\n",
       "      <th>SiglaEstado</th>\n",
       "      <th>NomeEnte</th>\n",
       "      <th>TipoDistribuição</th>\n",
       "      <th>Substância</th>\n",
       "      <th>TipoAfetamento</th>\n",
       "      <th>Valor</th>\n",
       "    </tr>\n",
       "  </thead>\n",
       "  <tbody>\n",
       "    <tr>\n",
       "      <th>22</th>\n",
       "      <td>564</td>\n",
       "      <td>2022</td>\n",
       "      <td>1</td>\n",
       "      <td>Município</td>\n",
       "      <td>RO</td>\n",
       "      <td>PORTO VELHO</td>\n",
       "      <td>Produtor</td>\n",
       "      <td>MINÉRIO DE OURO</td>\n",
       "      <td>-</td>\n",
       "      <td>46768.662000</td>\n",
       "    </tr>\n",
       "    <tr>\n",
       "      <th>47</th>\n",
       "      <td>574</td>\n",
       "      <td>2022</td>\n",
       "      <td>1</td>\n",
       "      <td>Município</td>\n",
       "      <td>RO</td>\n",
       "      <td>URUPÁ</td>\n",
       "      <td>Afetado</td>\n",
       "      <td>MINÉRIO DE OURO</td>\n",
       "      <td>Estrutura de mineração</td>\n",
       "      <td>152946.918247</td>\n",
       "    </tr>\n",
       "    <tr>\n",
       "      <th>75</th>\n",
       "      <td>575</td>\n",
       "      <td>2022</td>\n",
       "      <td>1</td>\n",
       "      <td>Município</td>\n",
       "      <td>RO</td>\n",
       "      <td>URUPÁ</td>\n",
       "      <td>Afetado</td>\n",
       "      <td>MINÉRIO DE OURO</td>\n",
       "      <td>Estrutura de mineração</td>\n",
       "      <td>146866.089879</td>\n",
       "    </tr>\n",
       "    <tr>\n",
       "      <th>103</th>\n",
       "      <td>576</td>\n",
       "      <td>2022</td>\n",
       "      <td>1</td>\n",
       "      <td>Município</td>\n",
       "      <td>RO</td>\n",
       "      <td>URUPÁ</td>\n",
       "      <td>Afetado</td>\n",
       "      <td>MINÉRIO DE OURO</td>\n",
       "      <td>Estrutura de mineração</td>\n",
       "      <td>147519.996883</td>\n",
       "    </tr>\n",
       "    <tr>\n",
       "      <th>131</th>\n",
       "      <td>577</td>\n",
       "      <td>2022</td>\n",
       "      <td>1</td>\n",
       "      <td>Município</td>\n",
       "      <td>RO</td>\n",
       "      <td>URUPÁ</td>\n",
       "      <td>Afetado</td>\n",
       "      <td>MINÉRIO DE OURO</td>\n",
       "      <td>Estrutura de mineração</td>\n",
       "      <td>166942.731950</td>\n",
       "    </tr>\n",
       "  </tbody>\n",
       "</table>\n",
       "</div>"
      ],
      "text/plain": [
       "     NúmeroDeDistribuição   Ano  Mês       Ente SiglaEstado     NomeEnte  \\\n",
       "22                    564  2022    1  Município          RO  PORTO VELHO   \n",
       "47                    574  2022    1  Município          RO        URUPÁ   \n",
       "75                    575  2022    1  Município          RO        URUPÁ   \n",
       "103                   576  2022    1  Município          RO        URUPÁ   \n",
       "131                   577  2022    1  Município          RO        URUPÁ   \n",
       "\n",
       "    TipoDistribuição       Substância          TipoAfetamento          Valor  \n",
       "22          Produtor  MINÉRIO DE OURO                       -   46768.662000  \n",
       "47           Afetado  MINÉRIO DE OURO  Estrutura de mineração  152946.918247  \n",
       "75           Afetado  MINÉRIO DE OURO  Estrutura de mineração  146866.089879  \n",
       "103          Afetado  MINÉRIO DE OURO  Estrutura de mineração  147519.996883  \n",
       "131          Afetado  MINÉRIO DE OURO  Estrutura de mineração  166942.731950  "
      ]
     },
     "execution_count": 19,
     "metadata": {},
     "output_type": "execute_result"
    }
   ],
   "source": [
    "cfem_distribuidora_RO= cfem_distribuidora.loc[(cfem_distribuidora['SiglaEstado'] == 'RO')]\n",
    "cfem_distribuidora_RO.head()"
   ]
  },
  {
   "cell_type": "markdown",
   "id": "7e1ca4f3",
   "metadata": {},
   "source": [
    "# Soma do Valor por Estado RO nos meses de 2022 = 1.786.444,61"
   ]
  },
  {
   "cell_type": "code",
   "execution_count": 87,
   "id": "f159c6f3",
   "metadata": {},
   "outputs": [
    {
     "data": {
      "text/plain": [
       "1786444.61394"
      ]
     },
     "execution_count": 87,
     "metadata": {},
     "output_type": "execute_result"
    }
   ],
   "source": [
    "cfem_distribuidora_RO.Valor.sum()"
   ]
  },
  {
   "cell_type": "code",
   "execution_count": 20,
   "id": "7509d1ff",
   "metadata": {},
   "outputs": [
    {
     "data": {
      "text/plain": [
       "<Figure size 1440x576 with 0 Axes>"
      ]
     },
     "metadata": {},
     "output_type": "display_data"
    },
    {
     "data": {
      "image/png": "[encoded data removed]",
      "text/plain": [
       "<Figure size 360x360 with 1 Axes>"
      ]
     },
     "metadata": {
      "needs_background": "light"
     },
     "output_type": "display_data"
    }
   ],
   "source": [
    "plt.figure(figsize=(20,8))\n",
    "sns.catplot(data=cfem_distribuidora_RO, y='Valor', x=\"Mês\", ci=200 )\n",
    "plt.title(\"Estado RO x Valor\",fontsize=18)\n",
    "plt.xlabel('Mês 2022', fontsize=(20))\n",
    "plt.ylabel('Valor', fontsize=(20))\n",
    "plt.grid()"
   ]
  },
  {
   "cell_type": "markdown",
   "id": "1a94b277",
   "metadata": {},
   "source": [
    "# 2. CFEM Arrecadação"
   ]
  },
  {
   "cell_type": "code",
   "execution_count": 21,
   "id": "c54b570d",
   "metadata": {},
   "outputs": [
    {
     "data": {
      "text/html": [
       "<div>\n",
       "<style scoped>\n",
       "    .dataframe tbody tr th:only-of-type {\n",
       "        vertical-align: middle;\n",
       "    }\n",
       "\n",
       "    .dataframe tbody tr th {\n",
       "        vertical-align: top;\n",
       "    }\n",
       "\n",
       "    .dataframe thead th {\n",
       "        text-align: right;\n",
       "    }\n",
       "</style>\n",
       "<table border=\"1\" class=\"dataframe\">\n",
       "  <thead>\n",
       "    <tr style=\"text-align: right;\">\n",
       "      <th></th>\n",
       "      <th>Ano</th>\n",
       "      <th>Mês</th>\n",
       "      <th>Processo</th>\n",
       "      <th>AnoDoProcesso</th>\n",
       "      <th>Tipo_PF_PJ</th>\n",
       "      <th>CPF_CNPJ</th>\n",
       "      <th>Substância</th>\n",
       "      <th>UF</th>\n",
       "      <th>Município</th>\n",
       "      <th>QuantidadeComercializada</th>\n",
       "      <th>UnidadeDeMedida</th>\n",
       "      <th>ValorRecolhido</th>\n",
       "    </tr>\n",
       "  </thead>\n",
       "  <tbody>\n",
       "    <tr>\n",
       "      <th>0</th>\n",
       "      <td>2022</td>\n",
       "      <td>1</td>\n",
       "      <td>920047</td>\n",
       "      <td>2012</td>\n",
       "      <td>PF</td>\n",
       "      <td>***279883**</td>\n",
       "      <td>ÁGUA MINERAL</td>\n",
       "      <td>SP</td>\n",
       "      <td>POÁ</td>\n",
       "      <td>0.00</td>\n",
       "      <td>l</td>\n",
       "      <td>478.50</td>\n",
       "    </tr>\n",
       "    <tr>\n",
       "      <th>1</th>\n",
       "      <td>2022</td>\n",
       "      <td>1</td>\n",
       "      <td>831171</td>\n",
       "      <td>2016</td>\n",
       "      <td>PJ</td>\n",
       "      <td>371691000130</td>\n",
       "      <td>AREIA</td>\n",
       "      <td>MG</td>\n",
       "      <td>NAZARENO</td>\n",
       "      <td>513.42</td>\n",
       "      <td>t</td>\n",
       "      <td>389.57</td>\n",
       "    </tr>\n",
       "    <tr>\n",
       "      <th>2</th>\n",
       "      <td>2022</td>\n",
       "      <td>1</td>\n",
       "      <td>860209</td>\n",
       "      <td>1993</td>\n",
       "      <td>PJ</td>\n",
       "      <td>798638000110</td>\n",
       "      <td>ÁGUA MINERAL</td>\n",
       "      <td>TO</td>\n",
       "      <td>APARECIDA DO RIO NEGRO</td>\n",
       "      <td>1.00</td>\n",
       "      <td>l</td>\n",
       "      <td>2462.66</td>\n",
       "    </tr>\n",
       "    <tr>\n",
       "      <th>3</th>\n",
       "      <td>2022</td>\n",
       "      <td>1</td>\n",
       "      <td>846003</td>\n",
       "      <td>2018</td>\n",
       "      <td>PJ</td>\n",
       "      <td>841691000156</td>\n",
       "      <td>QUARTZITO</td>\n",
       "      <td>PB</td>\n",
       "      <td>BARRA DE SANTA ROSA</td>\n",
       "      <td>58.98</td>\n",
       "      <td>m3</td>\n",
       "      <td>5252.48</td>\n",
       "    </tr>\n",
       "    <tr>\n",
       "      <th>4</th>\n",
       "      <td>2022</td>\n",
       "      <td>1</td>\n",
       "      <td>815146</td>\n",
       "      <td>1988</td>\n",
       "      <td>PJ</td>\n",
       "      <td>855016000186</td>\n",
       "      <td>AREIA DE FUNDIÇÃO</td>\n",
       "      <td>SC</td>\n",
       "      <td>ARAQUARI</td>\n",
       "      <td>5279.14</td>\n",
       "      <td>t</td>\n",
       "      <td>5369.78</td>\n",
       "    </tr>\n",
       "  </tbody>\n",
       "</table>\n",
       "</div>"
      ],
      "text/plain": [
       "    Ano  Mês  Processo  AnoDoProcesso Tipo_PF_PJ      CPF_CNPJ  \\\n",
       "0  2022    1    920047           2012         PF   ***279883**   \n",
       "1  2022    1    831171           2016         PJ  371691000130   \n",
       "2  2022    1    860209           1993         PJ  798638000110   \n",
       "3  2022    1    846003           2018         PJ  841691000156   \n",
       "4  2022    1    815146           1988         PJ  855016000186   \n",
       "\n",
       "          Substância  UF               Município  QuantidadeComercializada  \\\n",
       "0       ÁGUA MINERAL  SP                     POÁ                      0.00   \n",
       "1              AREIA  MG                NAZARENO                    513.42   \n",
       "2       ÁGUA MINERAL  TO  APARECIDA DO RIO NEGRO                      1.00   \n",
       "3          QUARTZITO  PB     BARRA DE SANTA ROSA                     58.98   \n",
       "4  AREIA DE FUNDIÇÃO  SC                ARAQUARI                   5279.14   \n",
       "\n",
       "  UnidadeDeMedida  ValorRecolhido  \n",
       "0             l            478.50  \n",
       "1             t            389.57  \n",
       "2             l           2462.66  \n",
       "3             m3          5252.48  \n",
       "4             t           5369.78  "
      ]
     },
     "execution_count": 21,
     "metadata": {},
     "output_type": "execute_result"
    }
   ],
   "source": [
    "cfem_arrecadadacao.head()"
   ]
  },
  {
   "cell_type": "code",
   "execution_count": 22,
   "id": "dabab4f2",
   "metadata": {},
   "outputs": [
    {
     "data": {
      "text/plain": [
       "ÁGATA                  1\n",
       "ALUMÍNIO               1\n",
       "MINÉRIO DE LÍTIO       1\n",
       "MOSCOVITA              1\n",
       "URÂNIO                 1\n",
       "                    ... \n",
       "MINÉRIO DE OURO      611\n",
       "ÁGUA MINERAL         633\n",
       "GRANITO              689\n",
       "ARGILA               990\n",
       "AREIA               2924\n",
       "Name: Substância, Length: 144, dtype: int64"
      ]
     },
     "execution_count": 22,
     "metadata": {},
     "output_type": "execute_result"
    }
   ],
   "source": [
    "cfem_arrecadadacao.Substância.value_counts(ascending=True)"
   ]
  },
  {
   "cell_type": "markdown",
   "id": "57e938c8",
   "metadata": {},
   "source": [
    "# Arrecadação Ouro\n"
   ]
  },
  {
   "cell_type": "code",
   "execution_count": 23,
   "id": "5493b4d3",
   "metadata": {},
   "outputs": [
    {
     "data": {
      "text/html": [
       "<div>\n",
       "<style scoped>\n",
       "    .dataframe tbody tr th:only-of-type {\n",
       "        vertical-align: middle;\n",
       "    }\n",
       "\n",
       "    .dataframe tbody tr th {\n",
       "        vertical-align: top;\n",
       "    }\n",
       "\n",
       "    .dataframe thead th {\n",
       "        text-align: right;\n",
       "    }\n",
       "</style>\n",
       "<table border=\"1\" class=\"dataframe\">\n",
       "  <thead>\n",
       "    <tr style=\"text-align: right;\">\n",
       "      <th></th>\n",
       "      <th>Ano</th>\n",
       "      <th>Mês</th>\n",
       "      <th>Processo</th>\n",
       "      <th>AnoDoProcesso</th>\n",
       "      <th>Tipo_PF_PJ</th>\n",
       "      <th>CPF_CNPJ</th>\n",
       "      <th>Substância</th>\n",
       "      <th>UF</th>\n",
       "      <th>Município</th>\n",
       "      <th>QuantidadeComercializada</th>\n",
       "      <th>UnidadeDeMedida</th>\n",
       "      <th>ValorRecolhido</th>\n",
       "    </tr>\n",
       "  </thead>\n",
       "  <tbody>\n",
       "    <tr>\n",
       "      <th>86</th>\n",
       "      <td>2022</td>\n",
       "      <td>1</td>\n",
       "      <td>850335</td>\n",
       "      <td>1993</td>\n",
       "      <td>PJ</td>\n",
       "      <td>34180451000170</td>\n",
       "      <td>OURO</td>\n",
       "      <td>PA</td>\n",
       "      <td>ITAITUBA</td>\n",
       "      <td>153.00</td>\n",
       "      <td>g</td>\n",
       "      <td>621.90</td>\n",
       "    </tr>\n",
       "    <tr>\n",
       "      <th>192</th>\n",
       "      <td>2022</td>\n",
       "      <td>1</td>\n",
       "      <td>850817</td>\n",
       "      <td>1982</td>\n",
       "      <td>PJ</td>\n",
       "      <td>14572101000141</td>\n",
       "      <td>OURO</td>\n",
       "      <td>AP</td>\n",
       "      <td>CALÇOENE</td>\n",
       "      <td>1225.70</td>\n",
       "      <td>g</td>\n",
       "      <td>6435.94</td>\n",
       "    </tr>\n",
       "    <tr>\n",
       "      <th>208</th>\n",
       "      <td>2022</td>\n",
       "      <td>1</td>\n",
       "      <td>958116</td>\n",
       "      <td>2017</td>\n",
       "      <td>PJ</td>\n",
       "      <td>788904000123</td>\n",
       "      <td>OURO</td>\n",
       "      <td>AP</td>\n",
       "      <td>CALÇOENE</td>\n",
       "      <td>0.00</td>\n",
       "      <td>g</td>\n",
       "      <td>473.72</td>\n",
       "    </tr>\n",
       "    <tr>\n",
       "      <th>215</th>\n",
       "      <td>2022</td>\n",
       "      <td>1</td>\n",
       "      <td>853158</td>\n",
       "      <td>1994</td>\n",
       "      <td>PJ</td>\n",
       "      <td>11495073000118</td>\n",
       "      <td>OURO</td>\n",
       "      <td>PA</td>\n",
       "      <td>ITAITUBA</td>\n",
       "      <td>71.23</td>\n",
       "      <td>g</td>\n",
       "      <td>294.18</td>\n",
       "    </tr>\n",
       "    <tr>\n",
       "      <th>216</th>\n",
       "      <td>2022</td>\n",
       "      <td>1</td>\n",
       "      <td>855190</td>\n",
       "      <td>1995</td>\n",
       "      <td>PJ</td>\n",
       "      <td>11495073000118</td>\n",
       "      <td>OURO</td>\n",
       "      <td>PA</td>\n",
       "      <td>ITAITUBA</td>\n",
       "      <td>71.43</td>\n",
       "      <td>g</td>\n",
       "      <td>290.44</td>\n",
       "    </tr>\n",
       "    <tr>\n",
       "      <th>...</th>\n",
       "      <td>...</td>\n",
       "      <td>...</td>\n",
       "      <td>...</td>\n",
       "      <td>...</td>\n",
       "      <td>...</td>\n",
       "      <td>...</td>\n",
       "      <td>...</td>\n",
       "      <td>...</td>\n",
       "      <td>...</td>\n",
       "      <td>...</td>\n",
       "      <td>...</td>\n",
       "      <td>...</td>\n",
       "    </tr>\n",
       "    <tr>\n",
       "      <th>9453</th>\n",
       "      <td>2022</td>\n",
       "      <td>9</td>\n",
       "      <td>867144</td>\n",
       "      <td>2014</td>\n",
       "      <td>PJ</td>\n",
       "      <td>20155248000139</td>\n",
       "      <td>OURO</td>\n",
       "      <td>MT</td>\n",
       "      <td>MATUPÁ</td>\n",
       "      <td>554.18</td>\n",
       "      <td>g</td>\n",
       "      <td>2037.34</td>\n",
       "    </tr>\n",
       "    <tr>\n",
       "      <th>9467</th>\n",
       "      <td>2022</td>\n",
       "      <td>9</td>\n",
       "      <td>886922</td>\n",
       "      <td>1998</td>\n",
       "      <td>PJ</td>\n",
       "      <td>20155248000139</td>\n",
       "      <td>OURO</td>\n",
       "      <td>RO</td>\n",
       "      <td>PORTO VELHO</td>\n",
       "      <td>127.50</td>\n",
       "      <td>g</td>\n",
       "      <td>503.71</td>\n",
       "    </tr>\n",
       "    <tr>\n",
       "      <th>9501</th>\n",
       "      <td>2022</td>\n",
       "      <td>9</td>\n",
       "      <td>872851</td>\n",
       "      <td>2005</td>\n",
       "      <td>PJ</td>\n",
       "      <td>22103965000142</td>\n",
       "      <td>OURO</td>\n",
       "      <td>BA</td>\n",
       "      <td>SANTALUZ</td>\n",
       "      <td>735.09</td>\n",
       "      <td>g</td>\n",
       "      <td>2774.05</td>\n",
       "    </tr>\n",
       "    <tr>\n",
       "      <th>9543</th>\n",
       "      <td>2022</td>\n",
       "      <td>9</td>\n",
       "      <td>866863</td>\n",
       "      <td>2013</td>\n",
       "      <td>PJ</td>\n",
       "      <td>8673569000120</td>\n",
       "      <td>OURO</td>\n",
       "      <td>MT</td>\n",
       "      <td>PEIXOTO DE AZEVEDO</td>\n",
       "      <td>36.50</td>\n",
       "      <td>g</td>\n",
       "      <td>133.48</td>\n",
       "    </tr>\n",
       "    <tr>\n",
       "      <th>9566</th>\n",
       "      <td>2022</td>\n",
       "      <td>9</td>\n",
       "      <td>866057</td>\n",
       "      <td>2016</td>\n",
       "      <td>PJ</td>\n",
       "      <td>20155248000139</td>\n",
       "      <td>OURO</td>\n",
       "      <td>MT</td>\n",
       "      <td>NOVO MUNDO</td>\n",
       "      <td>81.36</td>\n",
       "      <td>g</td>\n",
       "      <td>312.73</td>\n",
       "    </tr>\n",
       "  </tbody>\n",
       "</table>\n",
       "<p>175 rows × 12 columns</p>\n",
       "</div>"
      ],
      "text/plain": [
       "       Ano  Mês  Processo  AnoDoProcesso Tipo_PF_PJ        CPF_CNPJ  \\\n",
       "86    2022    1    850335           1993         PJ  34180451000170   \n",
       "192   2022    1    850817           1982         PJ  14572101000141   \n",
       "208   2022    1    958116           2017         PJ    788904000123   \n",
       "215   2022    1    853158           1994         PJ  11495073000118   \n",
       "216   2022    1    855190           1995         PJ  11495073000118   \n",
       "...    ...  ...       ...            ...        ...             ...   \n",
       "9453  2022    9    867144           2014         PJ  20155248000139   \n",
       "9467  2022    9    886922           1998         PJ  20155248000139   \n",
       "9501  2022    9    872851           2005         PJ  22103965000142   \n",
       "9543  2022    9    866863           2013         PJ   8673569000120   \n",
       "9566  2022    9    866057           2016         PJ  20155248000139   \n",
       "\n",
       "     Substância  UF           Município  QuantidadeComercializada  \\\n",
       "86         OURO  PA            ITAITUBA                    153.00   \n",
       "192        OURO  AP            CALÇOENE                   1225.70   \n",
       "208        OURO  AP            CALÇOENE                      0.00   \n",
       "215        OURO  PA            ITAITUBA                     71.23   \n",
       "216        OURO  PA            ITAITUBA                     71.43   \n",
       "...         ...  ..                 ...                       ...   \n",
       "9453       OURO  MT              MATUPÁ                    554.18   \n",
       "9467       OURO  RO         PORTO VELHO                    127.50   \n",
       "9501       OURO  BA            SANTALUZ                    735.09   \n",
       "9543       OURO  MT  PEIXOTO DE AZEVEDO                     36.50   \n",
       "9566       OURO  MT          NOVO MUNDO                     81.36   \n",
       "\n",
       "     UnidadeDeMedida  ValorRecolhido  \n",
       "86               g            621.90  \n",
       "192              g           6435.94  \n",
       "208              g            473.72  \n",
       "215              g            294.18  \n",
       "216              g            290.44  \n",
       "...              ...             ...  \n",
       "9453             g           2037.34  \n",
       "9467             g            503.71  \n",
       "9501             g           2774.05  \n",
       "9543             g            133.48  \n",
       "9566             g            312.73  \n",
       "\n",
       "[175 rows x 12 columns]"
      ]
     },
     "execution_count": 23,
     "metadata": {},
     "output_type": "execute_result"
    }
   ],
   "source": [
    "cfem_arrecadacao_ouro= cfem_arrecadadacao.loc[(cfem_arrecadadacao['Substância'] == 'OURO')]\n",
    "cfem_arrecadacao_ouro"
   ]
  },
  {
   "cell_type": "markdown",
   "id": "6399cd3a",
   "metadata": {},
   "source": [
    "# Estatística para Arrecadação de Ouro"
   ]
  },
  {
   "cell_type": "code",
   "execution_count": 24,
   "id": "2e101b78",
   "metadata": {},
   "outputs": [
    {
     "data": {
      "text/html": [
       "<div>\n",
       "<style scoped>\n",
       "    .dataframe tbody tr th:only-of-type {\n",
       "        vertical-align: middle;\n",
       "    }\n",
       "\n",
       "    .dataframe tbody tr th {\n",
       "        vertical-align: top;\n",
       "    }\n",
       "\n",
       "    .dataframe thead th {\n",
       "        text-align: right;\n",
       "    }\n",
       "</style>\n",
       "<table border=\"1\" class=\"dataframe\">\n",
       "  <thead>\n",
       "    <tr style=\"text-align: right;\">\n",
       "      <th></th>\n",
       "      <th>Ano</th>\n",
       "      <th>Mês</th>\n",
       "      <th>Processo</th>\n",
       "      <th>AnoDoProcesso</th>\n",
       "      <th>QuantidadeComercializada</th>\n",
       "      <th>ValorRecolhido</th>\n",
       "    </tr>\n",
       "  </thead>\n",
       "  <tbody>\n",
       "    <tr>\n",
       "      <th>count</th>\n",
       "      <td>175.0</td>\n",
       "      <td>175.000000</td>\n",
       "      <td>175.000000</td>\n",
       "      <td>175.000000</td>\n",
       "      <td>175.000000</td>\n",
       "      <td>1.750000e+02</td>\n",
       "    </tr>\n",
       "    <tr>\n",
       "      <th>mean</th>\n",
       "      <td>2022.0</td>\n",
       "      <td>4.668571</td>\n",
       "      <td>849983.337143</td>\n",
       "      <td>2002.451429</td>\n",
       "      <td>16922.194343</td>\n",
       "      <td>8.352673e+04</td>\n",
       "    </tr>\n",
       "    <tr>\n",
       "      <th>std</th>\n",
       "      <td>0.0</td>\n",
       "      <td>2.448055</td>\n",
       "      <td>114263.526861</td>\n",
       "      <td>14.929208</td>\n",
       "      <td>69083.079936</td>\n",
       "      <td>3.368229e+05</td>\n",
       "    </tr>\n",
       "    <tr>\n",
       "      <th>min</th>\n",
       "      <td>2022.0</td>\n",
       "      <td>1.000000</td>\n",
       "      <td>4951.000000</td>\n",
       "      <td>1935.000000</td>\n",
       "      <td>0.000000</td>\n",
       "      <td>5.520000e+01</td>\n",
       "    </tr>\n",
       "    <tr>\n",
       "      <th>25%</th>\n",
       "      <td>2022.0</td>\n",
       "      <td>3.000000</td>\n",
       "      <td>856379.500000</td>\n",
       "      <td>1995.000000</td>\n",
       "      <td>145.650000</td>\n",
       "      <td>6.457250e+02</td>\n",
       "    </tr>\n",
       "    <tr>\n",
       "      <th>50%</th>\n",
       "      <td>2022.0</td>\n",
       "      <td>5.000000</td>\n",
       "      <td>866553.000000</td>\n",
       "      <td>2004.000000</td>\n",
       "      <td>722.480000</td>\n",
       "      <td>2.907420e+03</td>\n",
       "    </tr>\n",
       "    <tr>\n",
       "      <th>75%</th>\n",
       "      <td>2022.0</td>\n",
       "      <td>7.000000</td>\n",
       "      <td>867143.500000</td>\n",
       "      <td>2014.000000</td>\n",
       "      <td>4005.720000</td>\n",
       "      <td>1.574449e+04</td>\n",
       "    </tr>\n",
       "    <tr>\n",
       "      <th>max</th>\n",
       "      <td>2022.0</td>\n",
       "      <td>9.000000</td>\n",
       "      <td>958116.000000</td>\n",
       "      <td>2020.000000</td>\n",
       "      <td>529889.850000</td>\n",
       "      <td>2.256583e+06</td>\n",
       "    </tr>\n",
       "  </tbody>\n",
       "</table>\n",
       "</div>"
      ],
      "text/plain": [
       "          Ano         Mês       Processo  AnoDoProcesso  \\\n",
       "count   175.0  175.000000     175.000000     175.000000   \n",
       "mean   2022.0    4.668571  849983.337143    2002.451429   \n",
       "std       0.0    2.448055  114263.526861      14.929208   \n",
       "min    2022.0    1.000000    4951.000000    1935.000000   \n",
       "25%    2022.0    3.000000  856379.500000    1995.000000   \n",
       "50%    2022.0    5.000000  866553.000000    2004.000000   \n",
       "75%    2022.0    7.000000  867143.500000    2014.000000   \n",
       "max    2022.0    9.000000  958116.000000    2020.000000   \n",
       "\n",
       "       QuantidadeComercializada  ValorRecolhido  \n",
       "count                175.000000    1.750000e+02  \n",
       "mean               16922.194343    8.352673e+04  \n",
       "std                69083.079936    3.368229e+05  \n",
       "min                    0.000000    5.520000e+01  \n",
       "25%                  145.650000    6.457250e+02  \n",
       "50%                  722.480000    2.907420e+03  \n",
       "75%                 4005.720000    1.574449e+04  \n",
       "max               529889.850000    2.256583e+06  "
      ]
     },
     "execution_count": 24,
     "metadata": {},
     "output_type": "execute_result"
    }
   ],
   "source": [
    "cfem_arrecadacao_ouro.describe()"
   ]
  },
  {
   "cell_type": "markdown",
   "id": "8b07698c",
   "metadata": {},
   "source": [
    "# Arrecadação de Ouro: soma Valor Recolhido = 14.617.177,34, Soma da Quantidade Comercializada em g = 2.961.384,01 nos meses de 2022\n",
    "## "
   ]
  },
  {
   "cell_type": "code",
   "execution_count": 96,
   "id": "793065c2",
   "metadata": {},
   "outputs": [
    {
     "data": {
      "text/plain": [
       "4.935927593314477"
      ]
     },
     "execution_count": 96,
     "metadata": {},
     "output_type": "execute_result"
    }
   ],
   "source": [
    "Razão =(14617177/2961384)\n",
    "Razão"
   ]
  },
  {
   "cell_type": "markdown",
   "id": "b3cdce43",
   "metadata": {},
   "source": [
    "## A divisão do Valor Recolhido / Quantidade Comercializada = 4.93 /g de ouro"
   ]
  },
  {
   "cell_type": "code",
   "execution_count": 89,
   "id": "a968bb89",
   "metadata": {},
   "outputs": [
    {
     "data": {
      "text/plain": [
       "14617177.34"
      ]
     },
     "execution_count": 89,
     "metadata": {},
     "output_type": "execute_result"
    }
   ],
   "source": [
    "cfem_arrecadacao_ouro.ValorRecolhido.sum()\n"
   ]
  },
  {
   "cell_type": "code",
   "execution_count": 90,
   "id": "58e23bf7",
   "metadata": {},
   "outputs": [
    {
     "data": {
      "text/plain": [
       "2961384.01"
      ]
     },
     "execution_count": 90,
     "metadata": {},
     "output_type": "execute_result"
    }
   ],
   "source": [
    "cfem_arrecadacao_ouro.QuantidadeComercializada.sum()"
   ]
  },
  {
   "cell_type": "markdown",
   "id": "7da1542d",
   "metadata": {},
   "source": [
    "# Arrecadação Minério Ouro"
   ]
  },
  {
   "cell_type": "code",
   "execution_count": 25,
   "id": "c7ae8eac",
   "metadata": {},
   "outputs": [
    {
     "data": {
      "text/html": [
       "<div>\n",
       "<style scoped>\n",
       "    .dataframe tbody tr th:only-of-type {\n",
       "        vertical-align: middle;\n",
       "    }\n",
       "\n",
       "    .dataframe tbody tr th {\n",
       "        vertical-align: top;\n",
       "    }\n",
       "\n",
       "    .dataframe thead th {\n",
       "        text-align: right;\n",
       "    }\n",
       "</style>\n",
       "<table border=\"1\" class=\"dataframe\">\n",
       "  <thead>\n",
       "    <tr style=\"text-align: right;\">\n",
       "      <th></th>\n",
       "      <th>Ano</th>\n",
       "      <th>Mês</th>\n",
       "      <th>Processo</th>\n",
       "      <th>AnoDoProcesso</th>\n",
       "      <th>Tipo_PF_PJ</th>\n",
       "      <th>CPF_CNPJ</th>\n",
       "      <th>Substância</th>\n",
       "      <th>UF</th>\n",
       "      <th>Município</th>\n",
       "      <th>QuantidadeComercializada</th>\n",
       "      <th>UnidadeDeMedida</th>\n",
       "      <th>ValorRecolhido</th>\n",
       "    </tr>\n",
       "  </thead>\n",
       "  <tbody>\n",
       "    <tr>\n",
       "      <th>160</th>\n",
       "      <td>2022</td>\n",
       "      <td>1</td>\n",
       "      <td>850819</td>\n",
       "      <td>2019</td>\n",
       "      <td>PJ</td>\n",
       "      <td>8673569000120</td>\n",
       "      <td>MINÉRIO DE OURO</td>\n",
       "      <td>PA</td>\n",
       "      <td>ITAITUBA</td>\n",
       "      <td>712.27</td>\n",
       "      <td>g</td>\n",
       "      <td>2803.80</td>\n",
       "    </tr>\n",
       "    <tr>\n",
       "      <th>161</th>\n",
       "      <td>2022</td>\n",
       "      <td>1</td>\n",
       "      <td>850549</td>\n",
       "      <td>2014</td>\n",
       "      <td>PJ</td>\n",
       "      <td>8673569000120</td>\n",
       "      <td>MINÉRIO DE OURO</td>\n",
       "      <td>PA</td>\n",
       "      <td>JACAREACANGA</td>\n",
       "      <td>8774.04</td>\n",
       "      <td>g</td>\n",
       "      <td>35605.04</td>\n",
       "    </tr>\n",
       "    <tr>\n",
       "      <th>205</th>\n",
       "      <td>2022</td>\n",
       "      <td>1</td>\n",
       "      <td>866390</td>\n",
       "      <td>2020</td>\n",
       "      <td>PJ</td>\n",
       "      <td>8673569000120</td>\n",
       "      <td>MINÉRIO DE OURO</td>\n",
       "      <td>MT</td>\n",
       "      <td>ARIPUANÃ</td>\n",
       "      <td>16393.40</td>\n",
       "      <td>g</td>\n",
       "      <td>57027.12</td>\n",
       "    </tr>\n",
       "    <tr>\n",
       "      <th>214</th>\n",
       "      <td>2022</td>\n",
       "      <td>1</td>\n",
       "      <td>850144</td>\n",
       "      <td>2018</td>\n",
       "      <td>PJ</td>\n",
       "      <td>11495073000118</td>\n",
       "      <td>MINÉRIO DE OURO</td>\n",
       "      <td>PA</td>\n",
       "      <td>ITAITUBA</td>\n",
       "      <td>499.80</td>\n",
       "      <td>g</td>\n",
       "      <td>2128.92</td>\n",
       "    </tr>\n",
       "    <tr>\n",
       "      <th>230</th>\n",
       "      <td>2022</td>\n",
       "      <td>1</td>\n",
       "      <td>866499</td>\n",
       "      <td>2012</td>\n",
       "      <td>PJ</td>\n",
       "      <td>8673569000120</td>\n",
       "      <td>MINÉRIO DE OURO</td>\n",
       "      <td>MT</td>\n",
       "      <td>POCONÉ</td>\n",
       "      <td>93.53</td>\n",
       "      <td>g</td>\n",
       "      <td>225.03</td>\n",
       "    </tr>\n",
       "    <tr>\n",
       "      <th>...</th>\n",
       "      <td>...</td>\n",
       "      <td>...</td>\n",
       "      <td>...</td>\n",
       "      <td>...</td>\n",
       "      <td>...</td>\n",
       "      <td>...</td>\n",
       "      <td>...</td>\n",
       "      <td>...</td>\n",
       "      <td>...</td>\n",
       "      <td>...</td>\n",
       "      <td>...</td>\n",
       "      <td>...</td>\n",
       "    </tr>\n",
       "    <tr>\n",
       "      <th>9499</th>\n",
       "      <td>2022</td>\n",
       "      <td>9</td>\n",
       "      <td>866390</td>\n",
       "      <td>2014</td>\n",
       "      <td>PJ</td>\n",
       "      <td>20155248000139</td>\n",
       "      <td>MINÉRIO DE OURO</td>\n",
       "      <td>MT</td>\n",
       "      <td>ROSÁRIO OESTE</td>\n",
       "      <td>61.28</td>\n",
       "      <td>g</td>\n",
       "      <td>246.79</td>\n",
       "    </tr>\n",
       "    <tr>\n",
       "      <th>9500</th>\n",
       "      <td>2022</td>\n",
       "      <td>9</td>\n",
       "      <td>870189</td>\n",
       "      <td>1988</td>\n",
       "      <td>PJ</td>\n",
       "      <td>22103965000142</td>\n",
       "      <td>MINÉRIO DE OURO</td>\n",
       "      <td>BA</td>\n",
       "      <td>SANTALUZ</td>\n",
       "      <td>8541.01</td>\n",
       "      <td>g</td>\n",
       "      <td>32231.59</td>\n",
       "    </tr>\n",
       "    <tr>\n",
       "      <th>9541</th>\n",
       "      <td>2022</td>\n",
       "      <td>9</td>\n",
       "      <td>866066</td>\n",
       "      <td>2012</td>\n",
       "      <td>PJ</td>\n",
       "      <td>8673569000120</td>\n",
       "      <td>MINÉRIO DE OURO</td>\n",
       "      <td>MT</td>\n",
       "      <td>APIACÁS</td>\n",
       "      <td>1622.50</td>\n",
       "      <td>g</td>\n",
       "      <td>6114.18</td>\n",
       "    </tr>\n",
       "    <tr>\n",
       "      <th>9542</th>\n",
       "      <td>2022</td>\n",
       "      <td>9</td>\n",
       "      <td>866908</td>\n",
       "      <td>2016</td>\n",
       "      <td>PJ</td>\n",
       "      <td>8673569000120</td>\n",
       "      <td>MINÉRIO DE OURO</td>\n",
       "      <td>MT</td>\n",
       "      <td>PARANAÍTA</td>\n",
       "      <td>1128.20</td>\n",
       "      <td>g</td>\n",
       "      <td>4511.51</td>\n",
       "    </tr>\n",
       "    <tr>\n",
       "      <th>9565</th>\n",
       "      <td>2022</td>\n",
       "      <td>9</td>\n",
       "      <td>866939</td>\n",
       "      <td>2012</td>\n",
       "      <td>PJ</td>\n",
       "      <td>20155248000139</td>\n",
       "      <td>MINÉRIO DE OURO</td>\n",
       "      <td>MT</td>\n",
       "      <td>NOVA GUARITA</td>\n",
       "      <td>306.13</td>\n",
       "      <td>g</td>\n",
       "      <td>1164.00</td>\n",
       "    </tr>\n",
       "  </tbody>\n",
       "</table>\n",
       "<p>611 rows × 12 columns</p>\n",
       "</div>"
      ],
      "text/plain": [
       "       Ano  Mês  Processo  AnoDoProcesso Tipo_PF_PJ        CPF_CNPJ  \\\n",
       "160   2022    1    850819           2019         PJ   8673569000120   \n",
       "161   2022    1    850549           2014         PJ   8673569000120   \n",
       "205   2022    1    866390           2020         PJ   8673569000120   \n",
       "214   2022    1    850144           2018         PJ  11495073000118   \n",
       "230   2022    1    866499           2012         PJ   8673569000120   \n",
       "...    ...  ...       ...            ...        ...             ...   \n",
       "9499  2022    9    866390           2014         PJ  20155248000139   \n",
       "9500  2022    9    870189           1988         PJ  22103965000142   \n",
       "9541  2022    9    866066           2012         PJ   8673569000120   \n",
       "9542  2022    9    866908           2016         PJ   8673569000120   \n",
       "9565  2022    9    866939           2012         PJ  20155248000139   \n",
       "\n",
       "           Substância  UF      Município  QuantidadeComercializada  \\\n",
       "160   MINÉRIO DE OURO  PA       ITAITUBA                    712.27   \n",
       "161   MINÉRIO DE OURO  PA   JACAREACANGA                   8774.04   \n",
       "205   MINÉRIO DE OURO  MT       ARIPUANÃ                  16393.40   \n",
       "214   MINÉRIO DE OURO  PA       ITAITUBA                    499.80   \n",
       "230   MINÉRIO DE OURO  MT         POCONÉ                     93.53   \n",
       "...               ...  ..            ...                       ...   \n",
       "9499  MINÉRIO DE OURO  MT  ROSÁRIO OESTE                     61.28   \n",
       "9500  MINÉRIO DE OURO  BA       SANTALUZ                   8541.01   \n",
       "9541  MINÉRIO DE OURO  MT        APIACÁS                   1622.50   \n",
       "9542  MINÉRIO DE OURO  MT      PARANAÍTA                   1128.20   \n",
       "9565  MINÉRIO DE OURO  MT   NOVA GUARITA                    306.13   \n",
       "\n",
       "     UnidadeDeMedida  ValorRecolhido  \n",
       "160              g           2803.80  \n",
       "161              g          35605.04  \n",
       "205              g          57027.12  \n",
       "214              g           2128.92  \n",
       "230              g            225.03  \n",
       "...              ...             ...  \n",
       "9499             g            246.79  \n",
       "9500             g          32231.59  \n",
       "9541             g           6114.18  \n",
       "9542             g           4511.51  \n",
       "9565             g           1164.00  \n",
       "\n",
       "[611 rows x 12 columns]"
      ]
     },
     "execution_count": 25,
     "metadata": {},
     "output_type": "execute_result"
    }
   ],
   "source": [
    "cfem_arrecadacao_ouro_minerio= cfem_arrecadadacao.loc[(cfem_arrecadadacao['Substância']== 'MINÉRIO DE OURO')]\n",
    "cfem_arrecadacao_ouro_minerio"
   ]
  },
  {
   "cell_type": "code",
   "execution_count": 26,
   "id": "e3347f8a",
   "metadata": {},
   "outputs": [
    {
     "data": {
      "text/html": [
       "<div>\n",
       "<style scoped>\n",
       "    .dataframe tbody tr th:only-of-type {\n",
       "        vertical-align: middle;\n",
       "    }\n",
       "\n",
       "    .dataframe tbody tr th {\n",
       "        vertical-align: top;\n",
       "    }\n",
       "\n",
       "    .dataframe thead th {\n",
       "        text-align: right;\n",
       "    }\n",
       "</style>\n",
       "<table border=\"1\" class=\"dataframe\">\n",
       "  <thead>\n",
       "    <tr style=\"text-align: right;\">\n",
       "      <th></th>\n",
       "      <th>Ano</th>\n",
       "      <th>Mês</th>\n",
       "      <th>Processo</th>\n",
       "      <th>AnoDoProcesso</th>\n",
       "      <th>QuantidadeComercializada</th>\n",
       "      <th>ValorRecolhido</th>\n",
       "    </tr>\n",
       "  </thead>\n",
       "  <tbody>\n",
       "    <tr>\n",
       "      <th>count</th>\n",
       "      <td>611.0</td>\n",
       "      <td>611.000000</td>\n",
       "      <td>611.000000</td>\n",
       "      <td>611.000000</td>\n",
       "      <td>6.110000e+02</td>\n",
       "      <td>6.110000e+02</td>\n",
       "    </tr>\n",
       "    <tr>\n",
       "      <th>mean</th>\n",
       "      <td>2022.0</td>\n",
       "      <td>4.469722</td>\n",
       "      <td>861511.083470</td>\n",
       "      <td>2013.988543</td>\n",
       "      <td>9.890788e+03</td>\n",
       "      <td>4.342599e+04</td>\n",
       "    </tr>\n",
       "    <tr>\n",
       "      <th>std</th>\n",
       "      <td>0.0</td>\n",
       "      <td>2.342127</td>\n",
       "      <td>38621.594884</td>\n",
       "      <td>6.040698</td>\n",
       "      <td>7.557046e+04</td>\n",
       "      <td>3.332585e+05</td>\n",
       "    </tr>\n",
       "    <tr>\n",
       "      <th>min</th>\n",
       "      <td>2022.0</td>\n",
       "      <td>1.000000</td>\n",
       "      <td>323.000000</td>\n",
       "      <td>1973.000000</td>\n",
       "      <td>0.000000e+00</td>\n",
       "      <td>5.404000e+01</td>\n",
       "    </tr>\n",
       "    <tr>\n",
       "      <th>25%</th>\n",
       "      <td>2022.0</td>\n",
       "      <td>2.000000</td>\n",
       "      <td>850688.000000</td>\n",
       "      <td>2012.000000</td>\n",
       "      <td>2.008450e+02</td>\n",
       "      <td>9.115100e+02</td>\n",
       "    </tr>\n",
       "    <tr>\n",
       "      <th>50%</th>\n",
       "      <td>2022.0</td>\n",
       "      <td>4.000000</td>\n",
       "      <td>866228.000000</td>\n",
       "      <td>2015.000000</td>\n",
       "      <td>1.074600e+03</td>\n",
       "      <td>4.589200e+03</td>\n",
       "    </tr>\n",
       "    <tr>\n",
       "      <th>75%</th>\n",
       "      <td>2022.0</td>\n",
       "      <td>7.000000</td>\n",
       "      <td>866685.000000</td>\n",
       "      <td>2018.000000</td>\n",
       "      <td>4.714300e+03</td>\n",
       "      <td>2.254008e+04</td>\n",
       "    </tr>\n",
       "    <tr>\n",
       "      <th>max</th>\n",
       "      <td>2022.0</td>\n",
       "      <td>9.000000</td>\n",
       "      <td>966326.000000</td>\n",
       "      <td>2021.000000</td>\n",
       "      <td>1.681268e+06</td>\n",
       "      <td>7.294678e+06</td>\n",
       "    </tr>\n",
       "  </tbody>\n",
       "</table>\n",
       "</div>"
      ],
      "text/plain": [
       "          Ano         Mês       Processo  AnoDoProcesso  \\\n",
       "count   611.0  611.000000     611.000000     611.000000   \n",
       "mean   2022.0    4.469722  861511.083470    2013.988543   \n",
       "std       0.0    2.342127   38621.594884       6.040698   \n",
       "min    2022.0    1.000000     323.000000    1973.000000   \n",
       "25%    2022.0    2.000000  850688.000000    2012.000000   \n",
       "50%    2022.0    4.000000  866228.000000    2015.000000   \n",
       "75%    2022.0    7.000000  866685.000000    2018.000000   \n",
       "max    2022.0    9.000000  966326.000000    2021.000000   \n",
       "\n",
       "       QuantidadeComercializada  ValorRecolhido  \n",
       "count              6.110000e+02    6.110000e+02  \n",
       "mean               9.890788e+03    4.342599e+04  \n",
       "std                7.557046e+04    3.332585e+05  \n",
       "min                0.000000e+00    5.404000e+01  \n",
       "25%                2.008450e+02    9.115100e+02  \n",
       "50%                1.074600e+03    4.589200e+03  \n",
       "75%                4.714300e+03    2.254008e+04  \n",
       "max                1.681268e+06    7.294678e+06  "
      ]
     },
     "execution_count": 26,
     "metadata": {},
     "output_type": "execute_result"
    }
   ],
   "source": [
    "cfem_arrecadacao_ouro_minerio.describe()"
   ]
  },
  {
   "cell_type": "markdown",
   "id": "6052af3b",
   "metadata": {},
   "source": [
    "## A divisão do Valor Recolhido / Quantidade Comercializada = 4.39 /g de (minerio de ouro)"
   ]
  },
  {
   "cell_type": "code",
   "execution_count": 97,
   "id": "ecea5009",
   "metadata": {},
   "outputs": [
    {
     "data": {
      "text/plain": [
       "26533282.099999998"
      ]
     },
     "execution_count": 97,
     "metadata": {},
     "output_type": "execute_result"
    }
   ],
   "source": [
    "cfem_arrecadacao_ouro_minerio.ValorRecolhido.sum()"
   ]
  },
  {
   "cell_type": "code",
   "execution_count": 98,
   "id": "c299203e",
   "metadata": {},
   "outputs": [
    {
     "data": {
      "text/plain": [
       "6043271.41"
      ]
     },
     "execution_count": 98,
     "metadata": {},
     "output_type": "execute_result"
    }
   ],
   "source": [
    "cfem_arrecadacao_ouro_minerio.QuantidadeComercializada.sum()"
   ]
  },
  {
   "cell_type": "code",
   "execution_count": 99,
   "id": "6bbe0704",
   "metadata": {},
   "outputs": [
    {
     "data": {
      "text/plain": [
       "4.390549472276638"
      ]
     },
     "execution_count": 99,
     "metadata": {},
     "output_type": "execute_result"
    }
   ],
   "source": [
    "Razão =(26533282.099999998/6043271.41)\n",
    "Razão"
   ]
  },
  {
   "cell_type": "markdown",
   "id": "99d13329",
   "metadata": {},
   "source": [
    "# Arrecadação em Ouro e Minério de Ouro"
   ]
  },
  {
   "cell_type": "code",
   "execution_count": 32,
   "id": "d4de8ec1",
   "metadata": {},
   "outputs": [
    {
     "data": {
      "text/html": [
       "<div>\n",
       "<style scoped>\n",
       "    .dataframe tbody tr th:only-of-type {\n",
       "        vertical-align: middle;\n",
       "    }\n",
       "\n",
       "    .dataframe tbody tr th {\n",
       "        vertical-align: top;\n",
       "    }\n",
       "\n",
       "    .dataframe thead th {\n",
       "        text-align: right;\n",
       "    }\n",
       "</style>\n",
       "<table border=\"1\" class=\"dataframe\">\n",
       "  <thead>\n",
       "    <tr style=\"text-align: right;\">\n",
       "      <th></th>\n",
       "      <th>Ano</th>\n",
       "      <th>Mês</th>\n",
       "      <th>Processo</th>\n",
       "      <th>AnoDoProcesso</th>\n",
       "      <th>Tipo_PF_PJ</th>\n",
       "      <th>CPF_CNPJ</th>\n",
       "      <th>Substância</th>\n",
       "      <th>UF</th>\n",
       "      <th>Município</th>\n",
       "      <th>QuantidadeComercializada</th>\n",
       "      <th>UnidadeDeMedida</th>\n",
       "      <th>ValorRecolhido</th>\n",
       "    </tr>\n",
       "  </thead>\n",
       "  <tbody>\n",
       "    <tr>\n",
       "      <th>86</th>\n",
       "      <td>2022</td>\n",
       "      <td>1</td>\n",
       "      <td>850335</td>\n",
       "      <td>1993</td>\n",
       "      <td>PJ</td>\n",
       "      <td>34180451000170</td>\n",
       "      <td>OURO</td>\n",
       "      <td>PA</td>\n",
       "      <td>ITAITUBA</td>\n",
       "      <td>153.00</td>\n",
       "      <td>g</td>\n",
       "      <td>621.90</td>\n",
       "    </tr>\n",
       "    <tr>\n",
       "      <th>160</th>\n",
       "      <td>2022</td>\n",
       "      <td>1</td>\n",
       "      <td>850819</td>\n",
       "      <td>2019</td>\n",
       "      <td>PJ</td>\n",
       "      <td>8673569000120</td>\n",
       "      <td>MINÉRIO DE OURO</td>\n",
       "      <td>PA</td>\n",
       "      <td>ITAITUBA</td>\n",
       "      <td>712.27</td>\n",
       "      <td>g</td>\n",
       "      <td>2803.80</td>\n",
       "    </tr>\n",
       "    <tr>\n",
       "      <th>161</th>\n",
       "      <td>2022</td>\n",
       "      <td>1</td>\n",
       "      <td>850549</td>\n",
       "      <td>2014</td>\n",
       "      <td>PJ</td>\n",
       "      <td>8673569000120</td>\n",
       "      <td>MINÉRIO DE OURO</td>\n",
       "      <td>PA</td>\n",
       "      <td>JACAREACANGA</td>\n",
       "      <td>8774.04</td>\n",
       "      <td>g</td>\n",
       "      <td>35605.04</td>\n",
       "    </tr>\n",
       "    <tr>\n",
       "      <th>192</th>\n",
       "      <td>2022</td>\n",
       "      <td>1</td>\n",
       "      <td>850817</td>\n",
       "      <td>1982</td>\n",
       "      <td>PJ</td>\n",
       "      <td>14572101000141</td>\n",
       "      <td>OURO</td>\n",
       "      <td>AP</td>\n",
       "      <td>CALÇOENE</td>\n",
       "      <td>1225.70</td>\n",
       "      <td>g</td>\n",
       "      <td>6435.94</td>\n",
       "    </tr>\n",
       "    <tr>\n",
       "      <th>205</th>\n",
       "      <td>2022</td>\n",
       "      <td>1</td>\n",
       "      <td>866390</td>\n",
       "      <td>2020</td>\n",
       "      <td>PJ</td>\n",
       "      <td>8673569000120</td>\n",
       "      <td>MINÉRIO DE OURO</td>\n",
       "      <td>MT</td>\n",
       "      <td>ARIPUANÃ</td>\n",
       "      <td>16393.40</td>\n",
       "      <td>g</td>\n",
       "      <td>57027.12</td>\n",
       "    </tr>\n",
       "    <tr>\n",
       "      <th>...</th>\n",
       "      <td>...</td>\n",
       "      <td>...</td>\n",
       "      <td>...</td>\n",
       "      <td>...</td>\n",
       "      <td>...</td>\n",
       "      <td>...</td>\n",
       "      <td>...</td>\n",
       "      <td>...</td>\n",
       "      <td>...</td>\n",
       "      <td>...</td>\n",
       "      <td>...</td>\n",
       "      <td>...</td>\n",
       "    </tr>\n",
       "    <tr>\n",
       "      <th>9541</th>\n",
       "      <td>2022</td>\n",
       "      <td>9</td>\n",
       "      <td>866066</td>\n",
       "      <td>2012</td>\n",
       "      <td>PJ</td>\n",
       "      <td>8673569000120</td>\n",
       "      <td>MINÉRIO DE OURO</td>\n",
       "      <td>MT</td>\n",
       "      <td>APIACÁS</td>\n",
       "      <td>1622.50</td>\n",
       "      <td>g</td>\n",
       "      <td>6114.18</td>\n",
       "    </tr>\n",
       "    <tr>\n",
       "      <th>9542</th>\n",
       "      <td>2022</td>\n",
       "      <td>9</td>\n",
       "      <td>866908</td>\n",
       "      <td>2016</td>\n",
       "      <td>PJ</td>\n",
       "      <td>8673569000120</td>\n",
       "      <td>MINÉRIO DE OURO</td>\n",
       "      <td>MT</td>\n",
       "      <td>PARANAÍTA</td>\n",
       "      <td>1128.20</td>\n",
       "      <td>g</td>\n",
       "      <td>4511.51</td>\n",
       "    </tr>\n",
       "    <tr>\n",
       "      <th>9543</th>\n",
       "      <td>2022</td>\n",
       "      <td>9</td>\n",
       "      <td>866863</td>\n",
       "      <td>2013</td>\n",
       "      <td>PJ</td>\n",
       "      <td>8673569000120</td>\n",
       "      <td>OURO</td>\n",
       "      <td>MT</td>\n",
       "      <td>PEIXOTO DE AZEVEDO</td>\n",
       "      <td>36.50</td>\n",
       "      <td>g</td>\n",
       "      <td>133.48</td>\n",
       "    </tr>\n",
       "    <tr>\n",
       "      <th>9565</th>\n",
       "      <td>2022</td>\n",
       "      <td>9</td>\n",
       "      <td>866939</td>\n",
       "      <td>2012</td>\n",
       "      <td>PJ</td>\n",
       "      <td>20155248000139</td>\n",
       "      <td>MINÉRIO DE OURO</td>\n",
       "      <td>MT</td>\n",
       "      <td>NOVA GUARITA</td>\n",
       "      <td>306.13</td>\n",
       "      <td>g</td>\n",
       "      <td>1164.00</td>\n",
       "    </tr>\n",
       "    <tr>\n",
       "      <th>9566</th>\n",
       "      <td>2022</td>\n",
       "      <td>9</td>\n",
       "      <td>866057</td>\n",
       "      <td>2016</td>\n",
       "      <td>PJ</td>\n",
       "      <td>20155248000139</td>\n",
       "      <td>OURO</td>\n",
       "      <td>MT</td>\n",
       "      <td>NOVO MUNDO</td>\n",
       "      <td>81.36</td>\n",
       "      <td>g</td>\n",
       "      <td>312.73</td>\n",
       "    </tr>\n",
       "  </tbody>\n",
       "</table>\n",
       "<p>786 rows × 12 columns</p>\n",
       "</div>"
      ],
      "text/plain": [
       "       Ano  Mês  Processo  AnoDoProcesso Tipo_PF_PJ        CPF_CNPJ  \\\n",
       "86    2022    1    850335           1993         PJ  34180451000170   \n",
       "160   2022    1    850819           2019         PJ   8673569000120   \n",
       "161   2022    1    850549           2014         PJ   8673569000120   \n",
       "192   2022    1    850817           1982         PJ  14572101000141   \n",
       "205   2022    1    866390           2020         PJ   8673569000120   \n",
       "...    ...  ...       ...            ...        ...             ...   \n",
       "9541  2022    9    866066           2012         PJ   8673569000120   \n",
       "9542  2022    9    866908           2016         PJ   8673569000120   \n",
       "9543  2022    9    866863           2013         PJ   8673569000120   \n",
       "9565  2022    9    866939           2012         PJ  20155248000139   \n",
       "9566  2022    9    866057           2016         PJ  20155248000139   \n",
       "\n",
       "           Substância  UF           Município  QuantidadeComercializada  \\\n",
       "86               OURO  PA            ITAITUBA                    153.00   \n",
       "160   MINÉRIO DE OURO  PA            ITAITUBA                    712.27   \n",
       "161   MINÉRIO DE OURO  PA        JACAREACANGA                   8774.04   \n",
       "192              OURO  AP            CALÇOENE                   1225.70   \n",
       "205   MINÉRIO DE OURO  MT            ARIPUANÃ                  16393.40   \n",
       "...               ...  ..                 ...                       ...   \n",
       "9541  MINÉRIO DE OURO  MT             APIACÁS                   1622.50   \n",
       "9542  MINÉRIO DE OURO  MT           PARANAÍTA                   1128.20   \n",
       "9543             OURO  MT  PEIXOTO DE AZEVEDO                     36.50   \n",
       "9565  MINÉRIO DE OURO  MT        NOVA GUARITA                    306.13   \n",
       "9566             OURO  MT          NOVO MUNDO                     81.36   \n",
       "\n",
       "     UnidadeDeMedida  ValorRecolhido  \n",
       "86               g            621.90  \n",
       "160              g           2803.80  \n",
       "161              g          35605.04  \n",
       "192              g           6435.94  \n",
       "205              g          57027.12  \n",
       "...              ...             ...  \n",
       "9541             g           6114.18  \n",
       "9542             g           4511.51  \n",
       "9543             g            133.48  \n",
       "9565             g           1164.00  \n",
       "9566             g            312.73  \n",
       "\n",
       "[786 rows x 12 columns]"
      ]
     },
     "execution_count": 32,
     "metadata": {},
     "output_type": "execute_result"
    }
   ],
   "source": [
    "ouro= cfem_arrecadadacao[cfem_arrecadadacao[\"Substância\"].str.contains(\"OURO\")]\n",
    "ouro"
   ]
  },
  {
   "cell_type": "markdown",
   "id": "22d67b6f",
   "metadata": {},
   "source": [
    "# Juntando minério de Ouro e Ouro: Estatística"
   ]
  },
  {
   "cell_type": "code",
   "execution_count": 101,
   "id": "40da058a",
   "metadata": {},
   "outputs": [
    {
     "data": {
      "text/html": [
       "<div>\n",
       "<style scoped>\n",
       "    .dataframe tbody tr th:only-of-type {\n",
       "        vertical-align: middle;\n",
       "    }\n",
       "\n",
       "    .dataframe tbody tr th {\n",
       "        vertical-align: top;\n",
       "    }\n",
       "\n",
       "    .dataframe thead th {\n",
       "        text-align: right;\n",
       "    }\n",
       "</style>\n",
       "<table border=\"1\" class=\"dataframe\">\n",
       "  <thead>\n",
       "    <tr style=\"text-align: right;\">\n",
       "      <th></th>\n",
       "      <th>Ano</th>\n",
       "      <th>Mês</th>\n",
       "      <th>Processo</th>\n",
       "      <th>AnoDoProcesso</th>\n",
       "      <th>QuantidadeComercializada</th>\n",
       "      <th>ValorRecolhido</th>\n",
       "    </tr>\n",
       "  </thead>\n",
       "  <tbody>\n",
       "    <tr>\n",
       "      <th>count</th>\n",
       "      <td>786.0</td>\n",
       "      <td>786.000000</td>\n",
       "      <td>786.000000</td>\n",
       "      <td>786.000000</td>\n",
       "      <td>7.860000e+02</td>\n",
       "      <td>7.860000e+02</td>\n",
       "    </tr>\n",
       "    <tr>\n",
       "      <th>mean</th>\n",
       "      <td>2022.0</td>\n",
       "      <td>4.513995</td>\n",
       "      <td>858944.473282</td>\n",
       "      <td>2011.419847</td>\n",
       "      <td>1.145630e+04</td>\n",
       "      <td>5.235427e+04</td>\n",
       "    </tr>\n",
       "    <tr>\n",
       "      <th>std</th>\n",
       "      <td>0.0</td>\n",
       "      <td>2.365987</td>\n",
       "      <td>63844.370393</td>\n",
       "      <td>10.041154</td>\n",
       "      <td>7.419016e+04</td>\n",
       "      <td>3.342572e+05</td>\n",
       "    </tr>\n",
       "    <tr>\n",
       "      <th>min</th>\n",
       "      <td>2022.0</td>\n",
       "      <td>1.000000</td>\n",
       "      <td>323.000000</td>\n",
       "      <td>1935.000000</td>\n",
       "      <td>0.000000e+00</td>\n",
       "      <td>5.404000e+01</td>\n",
       "    </tr>\n",
       "    <tr>\n",
       "      <th>25%</th>\n",
       "      <td>2022.0</td>\n",
       "      <td>2.000000</td>\n",
       "      <td>850822.000000</td>\n",
       "      <td>2010.000000</td>\n",
       "      <td>1.841125e+02</td>\n",
       "      <td>8.294100e+02</td>\n",
       "    </tr>\n",
       "    <tr>\n",
       "      <th>50%</th>\n",
       "      <td>2022.0</td>\n",
       "      <td>4.000000</td>\n",
       "      <td>866269.000000</td>\n",
       "      <td>2014.000000</td>\n",
       "      <td>9.736900e+02</td>\n",
       "      <td>4.247920e+03</td>\n",
       "    </tr>\n",
       "    <tr>\n",
       "      <th>75%</th>\n",
       "      <td>2022.0</td>\n",
       "      <td>7.000000</td>\n",
       "      <td>866863.000000</td>\n",
       "      <td>2017.000000</td>\n",
       "      <td>4.391550e+03</td>\n",
       "      <td>2.112365e+04</td>\n",
       "    </tr>\n",
       "    <tr>\n",
       "      <th>max</th>\n",
       "      <td>2022.0</td>\n",
       "      <td>9.000000</td>\n",
       "      <td>966326.000000</td>\n",
       "      <td>2021.000000</td>\n",
       "      <td>1.681268e+06</td>\n",
       "      <td>7.294678e+06</td>\n",
       "    </tr>\n",
       "  </tbody>\n",
       "</table>\n",
       "</div>"
      ],
      "text/plain": [
       "          Ano         Mês       Processo  AnoDoProcesso  \\\n",
       "count   786.0  786.000000     786.000000     786.000000   \n",
       "mean   2022.0    4.513995  858944.473282    2011.419847   \n",
       "std       0.0    2.365987   63844.370393      10.041154   \n",
       "min    2022.0    1.000000     323.000000    1935.000000   \n",
       "25%    2022.0    2.000000  850822.000000    2010.000000   \n",
       "50%    2022.0    4.000000  866269.000000    2014.000000   \n",
       "75%    2022.0    7.000000  866863.000000    2017.000000   \n",
       "max    2022.0    9.000000  966326.000000    2021.000000   \n",
       "\n",
       "       QuantidadeComercializada  ValorRecolhido  \n",
       "count              7.860000e+02    7.860000e+02  \n",
       "mean               1.145630e+04    5.235427e+04  \n",
       "std                7.419016e+04    3.342572e+05  \n",
       "min                0.000000e+00    5.404000e+01  \n",
       "25%                1.841125e+02    8.294100e+02  \n",
       "50%                9.736900e+02    4.247920e+03  \n",
       "75%                4.391550e+03    2.112365e+04  \n",
       "max                1.681268e+06    7.294678e+06  "
      ]
     },
     "execution_count": 101,
     "metadata": {},
     "output_type": "execute_result"
    }
   ],
   "source": [
    "ouro.describe()"
   ]
  },
  {
   "cell_type": "markdown",
   "id": "5e7df9a8",
   "metadata": {},
   "source": [
    "## A divisão do Valor Recolhido / Quantidade Comercializada = 4.59 /g de (minerio de ouro + ouro)"
   ]
  },
  {
   "cell_type": "code",
   "execution_count": 102,
   "id": "cc8485cd",
   "metadata": {},
   "outputs": [
    {
     "data": {
      "text/plain": [
       "41150459.44"
      ]
     },
     "execution_count": 102,
     "metadata": {},
     "output_type": "execute_result"
    }
   ],
   "source": [
    "ouro.ValorRecolhido.sum()"
   ]
  },
  {
   "cell_type": "code",
   "execution_count": 103,
   "id": "7a6bab39",
   "metadata": {},
   "outputs": [
    {
     "data": {
      "text/plain": [
       "9004655.42"
      ]
     },
     "execution_count": 103,
     "metadata": {},
     "output_type": "execute_result"
    }
   ],
   "source": [
    "ouro.QuantidadeComercializada.sum()"
   ]
  },
  {
   "cell_type": "code",
   "execution_count": 104,
   "id": "935e19ca",
   "metadata": {},
   "outputs": [
    {
     "data": {
      "text/plain": [
       "4.569909350290275"
      ]
     },
     "execution_count": 104,
     "metadata": {},
     "output_type": "execute_result"
    }
   ],
   "source": [
    "Razão =(41150459/9004655.42)\n",
    "Razão"
   ]
  },
  {
   "cell_type": "markdown",
   "id": "28050e04",
   "metadata": {},
   "source": [
    "# Arrecadação Ouro\n",
    "## Foram separados os gráfico em menor 1000 e maior de 1000, para melhorar as visualizações, no eixo x"
   ]
  },
  {
   "cell_type": "code",
   "execution_count": 121,
   "id": "4e8e1932",
   "metadata": {},
   "outputs": [
    {
     "data": {
      "text/plain": [
       "<Figure size 1440x576 with 0 Axes>"
      ]
     },
     "metadata": {},
     "output_type": "display_data"
    },
    {
     "data": {
      "image/png": "[encoded data removed]",
      "text/plain": [
       "<Figure size 360x360 with 1 Axes>"
      ]
     },
     "metadata": {
      "needs_background": "light"
     },
     "output_type": "display_data"
    }
   ],
   "source": [
    "plt.figure(figsize=(20,8))\n",
    "sns.catplot(data=cfem_arrecadacao_ouro.query(\"ValorRecolhido < 1000\"), y='UF', x=\"ValorRecolhido\", ci=200 )\n",
    "plt.title(\"Valor recolhido (Ouro) x Estado\",fontsize=18)\n",
    "plt.xlabel('Valor Recolhido em milhões', fontsize=(20))\n",
    "plt.ylabel('UF', fontsize=(20))\n",
    "plt.grid()\n"
   ]
  },
  {
   "cell_type": "code",
   "execution_count": 122,
   "id": "5674f9a2",
   "metadata": {},
   "outputs": [
    {
     "data": {
      "text/plain": [
       "<Figure size 1440x576 with 0 Axes>"
      ]
     },
     "metadata": {},
     "output_type": "display_data"
    },
    {
     "data": {
      "image/png": "[encoded data removed]",
      "text/plain": [
       "<Figure size 360x360 with 1 Axes>"
      ]
     },
     "metadata": {
      "needs_background": "light"
     },
     "output_type": "display_data"
    }
   ],
   "source": [
    "plt.figure(figsize=(20,8))\n",
    "sns.catplot(data=cfem_arrecadacao_ouro.query(\"ValorRecolhido > 1000\"), y='UF', x=\"ValorRecolhido\", ci=200 )\n",
    "plt.title(\"Valor recolhido (Ouro) x Estado\",fontsize=18)\n",
    "plt.xlabel('Valor Recolhido em milhões', fontsize=(20))\n",
    "plt.ylabel('UF', fontsize=(20))\n",
    "plt.grid()"
   ]
  },
  {
   "cell_type": "code",
   "execution_count": 130,
   "id": "3c13d928",
   "metadata": {},
   "outputs": [
    {
     "data": {
      "text/plain": [
       "<Figure size 1440x576 with 0 Axes>"
      ]
     },
     "metadata": {},
     "output_type": "display_data"
    },
    {
     "data": {
      "image/png": "[encoded data removed]",
      "text/plain": [
       "<Figure size 360x360 with 1 Axes>"
      ]
     },
     "metadata": {
      "needs_background": "light"
     },
     "output_type": "display_data"
    }
   ],
   "source": [
    "plt.figure(figsize=(20,8))\n",
    "sns.catplot(data=cfem_arrecadacao_ouro.query(\"QuantidadeComercializada > 1000\"), y='UF', x=\"QuantidadeComercializada\", ci=200 )\n",
    "plt.title(\"Quantidade de ouro em g x Estado\",fontsize=18)\n",
    "plt.xlabel('Quantidade Comercializada em gramas acima de 1000', fontsize=(20))\n",
    "plt.ylabel('UF', fontsize=(20))\n",
    "plt.grid()"
   ]
  },
  {
   "cell_type": "code",
   "execution_count": 129,
   "id": "c94d400f",
   "metadata": {},
   "outputs": [
    {
     "data": {
      "text/plain": [
       "<Figure size 1440x576 with 0 Axes>"
      ]
     },
     "metadata": {},
     "output_type": "display_data"
    },
    {
     "data": {
      "image/png": "[encoded data removed]",
      "text/plain": [
       "<Figure size 360x360 with 1 Axes>"
      ]
     },
     "metadata": {
      "needs_background": "light"
     },
     "output_type": "display_data"
    }
   ],
   "source": [
    "plt.figure(figsize=(20,8))\n",
    "sns.catplot(data=cfem_arrecadacao_ouro.query(\"QuantidadeComercializada < 1000\"), y='UF', x=\"QuantidadeComercializada\", ci=200 )\n",
    "plt.title(\"Quantidade de ouro em g x Estado\",fontsize=18)\n",
    "plt.xlabel('Quantidade Comercializada em gramas (menor 1000)', fontsize=(20))\n",
    "plt.ylabel('UF', fontsize=(20))\n",
    "plt.grid()"
   ]
  },
  {
   "cell_type": "code",
   "execution_count": 29,
   "id": "882ba604",
   "metadata": {},
   "outputs": [
    {
     "data": {
      "text/plain": [
       "Text(0, 0.5, 'Valor Recolhido em milões')"
      ]
     },
     "execution_count": 29,
     "metadata": {},
     "output_type": "execute_result"
    },
    {
     "data": {
      "image/png": "[encoded data removed]",
      "text/plain": [
       "<Figure size 1440x720 with 1 Axes>"
      ]
     },
     "metadata": {
      "needs_background": "light"
     },
     "output_type": "display_data"
    }
   ],
   "source": [
    "plt.figure(figsize=(20,10))\n",
    "sns.barplot(data=cfem_arrecadacao_ouro.query(\"QuantidadeComercializada > 100000\"), y='ValorRecolhido', x=\"QuantidadeComercializada\", ci=200, color=\"yellow\", hue=\"UF\" )\n",
    "plt.title(\"Quantidade comercializada x Valor Recolhido\",fontsize=18, y=1.10)\n",
    "plt.xlabel('Quantidade Comercializada (acima dos 100mil)', fontsize=(20))\n",
    "plt.ylabel('Valor Recolhido em milões', fontsize=(20))\n"
   ]
  },
  {
   "cell_type": "code",
   "execution_count": 125,
   "id": "85c9db45",
   "metadata": {},
   "outputs": [
    {
     "data": {
      "text/plain": [
       "<Figure size 1440x576 with 0 Axes>"
      ]
     },
     "metadata": {},
     "output_type": "display_data"
    },
    {
     "data": {
      "image/png": "[encoded data removed]",
      "text/plain": [
       "<Figure size 360x360 with 1 Axes>"
      ]
     },
     "metadata": {
      "needs_background": "light"
     },
     "output_type": "display_data"
    }
   ],
   "source": [
    "plt.figure(figsize=(20,8))\n",
    "sns.catplot(data=cfem_arrecadacao_ouro_minerio.query(\"QuantidadeComercializada > 100000\"), y='UF', x=\"QuantidadeComercializada\", ci=200 )\n",
    "plt.title(\"Quantidade de Minério de Ouro em g x Estado\",fontsize=18)\n",
    "plt.xlabel('Quantidade Comercializada em gramas', fontsize=(20))\n",
    "plt.ylabel('UF', fontsize=(20))\n",
    "plt.grid()"
   ]
  },
  {
   "cell_type": "code",
   "execution_count": 31,
   "id": "8c5724e6",
   "metadata": {},
   "outputs": [
    {
     "data": {
      "text/plain": [
       "Text(0, 0.5, 'Valor Recolhido em milhões ')"
      ]
     },
     "execution_count": 31,
     "metadata": {},
     "output_type": "execute_result"
    },
    {
     "data": {
      "image/png": "[encoded data removed]",
      "text/plain": [
       "<Figure size 1440x720 with 1 Axes>"
      ]
     },
     "metadata": {
      "needs_background": "light"
     },
     "output_type": "display_data"
    }
   ],
   "source": [
    "plt.figure(figsize=(20,10))\n",
    "sns.barplot(data=cfem_arrecadacao_ouro_minerio.query(\"QuantidadeComercializada > 100000\"), y='ValorRecolhido', x=\"QuantidadeComercializada\", ci=200, hue=\"UF\" )\n",
    "plt.title(\"Quantidade comercializada Minerio de Ouro x Valor Recolhido\",fontsize=18, y=1.10)\n",
    "plt.xlabel('Quantidade Comercializada Minerio Ouro (acima dos 100mil)', fontsize=(20))\n",
    "plt.ylabel('Valor Recolhido em milhões ', fontsize=(20))\n"
   ]
  },
  {
   "cell_type": "code",
   "execution_count": 36,
   "id": "bb03751f",
   "metadata": {},
   "outputs": [
    {
     "data": {
      "text/plain": [
       "Text(0, 0.5, 'Valor Recolhido em milhões ')"
      ]
     },
     "execution_count": 36,
     "metadata": {},
     "output_type": "execute_result"
    },
    {
     "data": {
      "image/png": "[encoded data removed]",
      "text/plain": [
       "<Figure size 1440x720 with 1 Axes>"
      ]
     },
     "metadata": {
      "needs_background": "light"
     },
     "output_type": "display_data"
    }
   ],
   "source": [
    "plt.figure(figsize=(20,10))\n",
    "sns.barplot(data=ouro.query(\"QuantidadeComercializada > 100000\"), y='ValorRecolhido', x=\"QuantidadeComercializada\", ci=200, hue=\"UF\" )\n",
    "plt.title(\"Quantidade comercializada Minerio de Ouro e Ouro x Valor Recolhido\",fontsize=18, y=1.10)\n",
    "plt.xlabel('Quantidade Comercializada Minerio Ouro e ouro(acima dos 100mil)', fontsize=(20))\n",
    "plt.ylabel('Valor Recolhido em milhões ', fontsize=(20))"
   ]
  },
  {
   "cell_type": "markdown",
   "id": "4d4422d8",
   "metadata": {},
   "source": [
    "# 3. Construindo um modelo de Predição para Arrecadação, buscando encontrar o Valor Recolhido para Ouro "
   ]
  },
  {
   "cell_type": "code",
   "execution_count": 37,
   "id": "6319dfba",
   "metadata": {},
   "outputs": [],
   "source": [
    "from sklearn.model_selection import train_test_split"
   ]
  },
  {
   "cell_type": "code",
   "execution_count": 38,
   "id": "401675df",
   "metadata": {},
   "outputs": [],
   "source": [
    "y = ouro['ValorRecolhido']"
   ]
  },
  {
   "cell_type": "code",
   "execution_count": 46,
   "id": "d6f08529",
   "metadata": {},
   "outputs": [],
   "source": [
    "X = ouro[['QuantidadeComercializada', 'AnoDoProcesso', 'Processo' ]]"
   ]
  },
  {
   "cell_type": "code",
   "execution_count": 47,
   "id": "0638d65d",
   "metadata": {},
   "outputs": [],
   "source": [
    "X_train, X_test, y_train, y_test= train_test_split(X, y , test_size=0.3, random_state=2811)"
   ]
  },
  {
   "cell_type": "code",
   "execution_count": 48,
   "id": "23ba6031",
   "metadata": {},
   "outputs": [
    {
     "data": {
      "text/plain": [
       "(550, 3)"
      ]
     },
     "execution_count": 48,
     "metadata": {},
     "output_type": "execute_result"
    }
   ],
   "source": [
    "X_train.shape"
   ]
  },
  {
   "cell_type": "code",
   "execution_count": 49,
   "id": "7616f0f8",
   "metadata": {},
   "outputs": [
    {
     "data": {
      "text/plain": [
       "(236, 3)"
      ]
     },
     "execution_count": 49,
     "metadata": {},
     "output_type": "execute_result"
    }
   ],
   "source": [
    "X_test.shape"
   ]
  },
  {
   "cell_type": "code",
   "execution_count": 43,
   "id": "669049e1",
   "metadata": {},
   "outputs": [],
   "source": [
    "from sklearn.linear_model import LinearRegression\n",
    "from sklearn import metrics"
   ]
  },
  {
   "cell_type": "code",
   "execution_count": 50,
   "id": "7ff96ba7",
   "metadata": {},
   "outputs": [],
   "source": [
    "modelo = LinearRegression()"
   ]
  },
  {
   "cell_type": "code",
   "execution_count": 51,
   "id": "4d5e16c2",
   "metadata": {},
   "outputs": [
    {
     "data": {
      "text/plain": [
       "LinearRegression()"
      ]
     },
     "execution_count": 51,
     "metadata": {},
     "output_type": "execute_result"
    }
   ],
   "source": [
    "modelo.fit(X_train, y_train)"
   ]
  },
  {
   "cell_type": "markdown",
   "id": "667497b5",
   "metadata": {},
   "source": [
    "# O Modelo Regressão Linear apresentou um R² =86% para os dados de Treino"
   ]
  },
  {
   "cell_type": "code",
   "execution_count": 53,
   "id": "f66c739d",
   "metadata": {},
   "outputs": [
    {
     "name": "stdout",
     "output_type": "stream",
     "text": [
      "R² = 0.86\n"
     ]
    }
   ],
   "source": [
    "print('R² = {}'.format(modelo.score(X_train, y_train).round(2)))"
   ]
  },
  {
   "cell_type": "code",
   "execution_count": 54,
   "id": "2a3b433c",
   "metadata": {},
   "outputs": [],
   "source": [
    "y_previsto = modelo.predict(X_test)"
   ]
  },
  {
   "cell_type": "markdown",
   "id": "15c1e360",
   "metadata": {},
   "source": [
    "# O Modelo Regressão Linear apresentou um R² =90% para os dados de Teste"
   ]
  },
  {
   "cell_type": "code",
   "execution_count": 55,
   "id": "2c05cdbf",
   "metadata": {},
   "outputs": [
    {
     "name": "stdout",
     "output_type": "stream",
     "text": [
      "R2 = 0.9\n"
     ]
    }
   ],
   "source": [
    "print('R2 = %s'  % metrics.r2_score(y_test, y_previsto).round(2))"
   ]
  },
  {
   "cell_type": "markdown",
   "id": "7cc64bce",
   "metadata": {},
   "source": [
    "# Aplicando algumas entradas no modelo a resposta para a Quantidade Comercializada de ouro= 31.7884,92g é um Valor Recolhido de 99.061,30 "
   ]
  },
  {
   "cell_type": "code",
   "execution_count": 77,
   "id": "f8ea2200",
   "metadata": {},
   "outputs": [
    {
     "data": {
      "text/html": [
       "<div>\n",
       "<style scoped>\n",
       "    .dataframe tbody tr th:only-of-type {\n",
       "        vertical-align: middle;\n",
       "    }\n",
       "\n",
       "    .dataframe tbody tr th {\n",
       "        vertical-align: top;\n",
       "    }\n",
       "\n",
       "    .dataframe thead th {\n",
       "        text-align: right;\n",
       "    }\n",
       "</style>\n",
       "<table border=\"1\" class=\"dataframe\">\n",
       "  <thead>\n",
       "    <tr style=\"text-align: right;\">\n",
       "      <th></th>\n",
       "      <th>QuantidadeComercializada</th>\n",
       "      <th>AnoDoProcesso</th>\n",
       "      <th>Processo</th>\n",
       "    </tr>\n",
       "  </thead>\n",
       "  <tbody>\n",
       "    <tr>\n",
       "      <th>9117</th>\n",
       "      <td>31784.92</td>\n",
       "      <td>2020</td>\n",
       "      <td>851279</td>\n",
       "    </tr>\n",
       "  </tbody>\n",
       "</table>\n",
       "</div>"
      ],
      "text/plain": [
       "      QuantidadeComercializada  AnoDoProcesso  Processo\n",
       "9117                  31784.92           2020    851279"
      ]
     },
     "execution_count": 77,
     "metadata": {},
     "output_type": "execute_result"
    }
   ],
   "source": [
    "entrada= X_test[55:56]\n",
    "entrada"
   ]
  },
  {
   "cell_type": "code",
   "execution_count": 78,
   "id": "1f9fe1be",
   "metadata": {},
   "outputs": [
    {
     "data": {
      "text/plain": [
       "99061.30112950318"
      ]
     },
     "execution_count": 78,
     "metadata": {},
     "output_type": "execute_result"
    }
   ],
   "source": [
    "modelo.predict(entrada)[0]"
   ]
  },
  {
   "cell_type": "markdown",
   "id": "1fb340b6",
   "metadata": {},
   "source": [
    "# Aplicando mais uma entrada no modelo a resposta para a Quantidade Comercializada de ouro= 15000 g é um Valor Recolhido de 33.866\n",
    "## Dividindo um pelo outro no modelo: valor recolhido por kg de ouro = 2.257, 73"
   ]
  },
  {
   "cell_type": "code",
   "execution_count": 76,
   "id": "2a26f1b3",
   "metadata": {},
   "outputs": [
    {
     "name": "stdout",
     "output_type": "stream",
     "text": [
      "33866.01\n"
     ]
    },
    {
     "name": "stderr",
     "output_type": "stream",
     "text": [
      "C:\\Users\\ADRIANE1\\anaconda3a\\lib\\site-packages\\sklearn\\base.py:450: UserWarning: X does not have valid feature names, but LinearRegression was fitted with feature names\n",
      "  warnings.warn(\n"
     ]
    }
   ],
   "source": [
    "QuantidadeComercializada= 15000\n",
    "AnoDoProcesso = 2020\n",
    "Processo= 866390\n",
    "entrada2=[[QuantidadeComercializada, AnoDoProcesso, Processo]]\n",
    "\n",
    "print('{0:.2f}'.format(modelo.predict(entrada2)[0]))"
   ]
  },
  {
   "cell_type": "code",
   "execution_count": 108,
   "id": "1a286c9f",
   "metadata": {},
   "outputs": [
    {
     "data": {
      "text/plain": [
       "2257.734"
      ]
     },
     "execution_count": 108,
     "metadata": {},
     "output_type": "execute_result"
    }
   ],
   "source": [
    "divisão=(33866.01/15)\n",
    "divisão"
   ]
  },
  {
   "cell_type": "code",
   "execution_count": null,
   "id": "5efb7f43",
   "metadata": {},
   "outputs": [],
   "source": []
  }
 ],
 "metadata": {
  "kernelspec": {
   "display_name": "Python 3 (ipykernel)",
   "language": "python",
   "name": "python3"
  },
  "language_info": {
   "codemirror_mode": {
    "name": "ipython",
    "version": 3
   },
   "file_extension": ".py",
   "mimetype": "text/x-python",
   "name": "python",
   "nbconvert_exporter": "python",
   "pygments_lexer": "ipython3",
   "version": "3.9.12"
  }
 },
 "nbformat": 4,
 "nbformat_minor": 5
}
